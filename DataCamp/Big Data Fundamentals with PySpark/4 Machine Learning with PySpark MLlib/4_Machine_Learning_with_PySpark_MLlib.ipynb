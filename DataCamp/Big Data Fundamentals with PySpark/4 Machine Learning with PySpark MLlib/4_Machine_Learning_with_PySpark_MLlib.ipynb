{
  "nbformat": 4,
  "nbformat_minor": 0,
  "metadata": {
    "colab": {
      "name": "4 Machine Learning with PySpark MLlib.ipynb",
      "provenance": [],
      "authorship_tag": "ABX9TyO2MQ4OhMypOvZtMt+j+Hl1",
      "include_colab_link": true
    },
    "kernelspec": {
      "name": "python3",
      "display_name": "Python 3"
    }
  },
  "cells": [
    {
      "cell_type": "markdown",
      "metadata": {
        "id": "view-in-github",
        "colab_type": "text"
      },
      "source": [
        "<a href=\"https://colab.research.google.com/github/villafue/Data-Science-at-Scale/blob/main/DataCamp/Big%20Data%20Fundamentals%20with%20PySpark/4%20Machine%20Learning%20with%20PySpark%20MLlib/4_Machine_Learning_with_PySpark_MLlib.ipynb\" target=\"_parent\"><img src=\"https://colab.research.google.com/assets/colab-badge.svg\" alt=\"Open In Colab\"/></a>"
      ]
    },
    {
      "cell_type": "markdown",
      "metadata": {
        "id": "mF9aiEn2k4Un"
      },
      "source": [
        "# Machine Learning with PySpark MLlib\r\n",
        "\r\n",
        "PySpark MLlib is the Apache Spark scalable machine learning library in Python consisting of common learning algorithms and utilities. Throughout this last chapter, you'll learn important Machine Learning algorithms. You will build a movie recommendation engine and a spam filter, and use k-means clustering."
      ]
    },
    {
      "cell_type": "markdown",
      "metadata": {
        "id": "6rgSKvcqk4rh"
      },
      "source": [
        "# Overview of PySpark MLlib\r\n",
        "\r\n"
      ]
    },
    {
      "cell_type": "code",
      "metadata": {
        "id": "bjm4Sb0CdCzr"
      },
      "source": [
        ""
      ],
      "execution_count": null,
      "outputs": []
    }
  ]
}