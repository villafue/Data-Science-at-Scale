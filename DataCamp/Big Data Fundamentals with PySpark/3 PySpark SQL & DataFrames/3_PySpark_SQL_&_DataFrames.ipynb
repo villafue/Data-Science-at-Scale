{
  "nbformat": 4,
  "nbformat_minor": 0,
  "metadata": {
    "colab": {
      "name": "3 PySpark SQL & DataFrames.ipynb",
      "provenance": [],
      "authorship_tag": "ABX9TyNAYMiI5c5S6R8xXysLmV+F",
      "include_colab_link": true
    },
    "kernelspec": {
      "name": "python3",
      "display_name": "Python 3"
    }
  },
  "cells": [
    {
      "cell_type": "markdown",
      "metadata": {
        "id": "view-in-github",
        "colab_type": "text"
      },
      "source": [
        "<a href=\"https://colab.research.google.com/github/villafue/Data-Science-at-Scale/blob/main/DataCamp/Big%20Data%20Fundamentals%20with%20PySpark/3%20PySpark%20SQL%20%26%20DataFrames/3_PySpark_SQL_%26_DataFrames.ipynb\" target=\"_parent\"><img src=\"https://colab.research.google.com/assets/colab-badge.svg\" alt=\"Open In Colab\"/></a>"
      ]
    },
    {
      "cell_type": "markdown",
      "metadata": {
        "id": "H8ZLc3sg17n4"
      },
      "source": [
        "# PySpark SQL & DataFrames\r\n",
        "\r\n",
        "In this chapter, you'll learn about Spark SQL which is a Spark module for structured data processing. It provides a programming abstraction called DataFrames and can also act as a distributed SQL query engine. This chapter shows how Spark SQL allows you to use DataFrames in Python."
      ]
    },
    {
      "cell_type": "code",
      "metadata": {
        "id": "IOuJgAkb1tQ0"
      },
      "source": [
        ""
      ],
      "execution_count": null,
      "outputs": []
    }
  ]
}