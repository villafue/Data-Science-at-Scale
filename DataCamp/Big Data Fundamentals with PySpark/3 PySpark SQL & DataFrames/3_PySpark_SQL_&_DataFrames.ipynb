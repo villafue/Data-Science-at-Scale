{
  "nbformat": 4,
  "nbformat_minor": 0,
  "metadata": {
    "colab": {
      "name": "3 PySpark SQL & DataFrames.ipynb",
      "provenance": [],
      "authorship_tag": "ABX9TyNlGp0UPQ//v7o7bs3YWfvF",
      "include_colab_link": true
    },
    "kernelspec": {
      "name": "python3",
      "display_name": "Python 3"
    }
  },
  "cells": [
    {
      "cell_type": "markdown",
      "metadata": {
        "id": "view-in-github",
        "colab_type": "text"
      },
      "source": [
        "<a href=\"https://colab.research.google.com/github/villafue/Data-Science-at-Scale/blob/main/DataCamp/Big%20Data%20Fundamentals%20with%20PySpark/3%20PySpark%20SQL%20%26%20DataFrames/3_PySpark_SQL_%26_DataFrames.ipynb\" target=\"_parent\"><img src=\"https://colab.research.google.com/assets/colab-badge.svg\" alt=\"Open In Colab\"/></a>"
      ]
    },
    {
      "cell_type": "markdown",
      "metadata": {
        "id": "H8ZLc3sg17n4"
      },
      "source": [
        "# PySpark SQL & DataFrames\r\n",
        "\r\n",
        "In this chapter, you'll learn about Spark SQL which is a Spark module for structured data processing. It provides a programming abstraction called DataFrames and can also act as a distributed SQL query engine. This chapter shows how Spark SQL allows you to use DataFrames in Python."
      ]
    },
    {
      "cell_type": "markdown",
      "metadata": {
        "id": "CDOQbYDa29g5"
      },
      "source": [
        "Abstracting Data with DataFrames\r\n",
        "\r\n",
        "1. Introduction to PySpark DataFrames\r\n",
        "\r\n",
        "In the previous chapter, you looked at RDDs which is Spark’s core abstraction for working with data. In this chapter, we will explore PySpark SQL which is Spark's high level API for working with structured data.\r\n",
        "2. What are PySpark DataFrames?\r\n",
        "\r\n",
        "PySpark SQL is a Spark library for structured data. Unlike the PySpark RDD API, PySpark SQL provides more information about the structure of data and the computation being performed. PySpark SQL provides a programming abstraction called DataFrames. A DataFrame is an immutable distributed collection of data with named columns. It is similar to a table in SQL. DataFrames are designed to process a large collection of structured data such as relational database and semi-structured data such as JSON (JavaScript Object Notation). DataFrame API currently supports several languages such as Python, R, Scala, and Java. DataFrames allows PySpark to query data using SQL, for example (SELECT * from table) or using the expression method for example (df-dot-select).\r\n",
        "3. SparkSession - Entry point for DataFrame API\r\n",
        "\r\n",
        "Previously you have learned about SparkContext which is the main entry point for creating RDDs. Similarly, SparkSession provides a single point of entry to interact with underlying Spark functionality and allows programming Spark with DataFrame API. The SparkSession does for DataFrames what the SparkContext does for RDDs. A SparkSession can be used to create DataFrame, register DataFrame as tables, execute SQL over tables, cache tables etc., Similar to SparkContext, SparkSession is exposed to the PySpark shell as variable spark. DataFrames in\r\n",
        "4. Creating DataFrames in PySpark\r\n",
        "\r\n",
        "Pyspark can be created in two main ways. From an existing RDD using SparkSession's createDataFrame method and From different data sources such as CSV, JSON, TXT using SparkSession's read method. Before going into the details of creating DataFrames, let's understand what schema is. Schema is the structure of data in DataFrame and helps Spark to optimize queries on the data more efficiently. A schema provides informational detail such as the column name, the type of data in that column, and whether null or empty values are allowed in the column. To create a DataFrame\r\n",
        "5. Create a DataFrame from RDD\r\n",
        "\r\n",
        "from an RDD we will need to pass an RDD and a schema into SparkSession's createDataFrame method. In this example, we will first create an RDD named iphones_RDD from a list of iphones using SparkContext's parallelize method. Next, we will create a DataFrame using SparkSession's createDataFrame method using iphones_RDD and the list of column names such as Model, Year, Height, Width and Weight as schema. The type of object created can be confirmed using type method, which shows that it is a PySpark DataFrame. A thing to note here is when the schema is a list of column names, the type of each column will be inferred from data as shown above. However when the schema is None, it will try to infer the schema from data. To create a\r\n",
        "6. Create a DataFrame from reading a CSV/JSON/TXT\r\n",
        "\r\n",
        "DataFrame from CSV/JSON/TXT files, we will make use of the SparkSession's spark-dot-read property. Here is an example of creating df_csv DataFrame from people-dot-csv file using spark-dot-read-dot-csv method. Similarly here is an example for creating df_json DataFrame from people-dot-json file using spark-dot-read-dot-json method. Finally here is an example for creating df_txt DataFrame from people-dot-txt file using spark-dot-read-dot-txt method. Irrespective of the file type, this method requires the path to the file and two optional parameters. The first optional parameter, header=True may be passed to make sure that the method treats the first row as column names. The second optional parameter, inferSchema=True may be passed to instruct the DataFrame reader to infer the schema from the data and by doing so, it will attempt to assign the right datatype to each column based on the content. Now let's\r\n",
        "7. Let's practice\r\n",
        "\r\n",
        "practice creating some DataFrames in PySpark shell. "
      ]
    },
    {
      "cell_type": "markdown",
      "metadata": {
        "id": "FzC8SA-_5J0o"
      },
      "source": [
        "# RDD to DataFrame\r\n",
        "\r\n",
        "Similar to RDDs, DataFrames are immutable and distributed data structures in Spark. Even though RDDs are a fundamental data structure in Spark, working with data in DataFrame is easier than RDD most of the time and so understanding of how to convert RDD to DataFrame is necessary.\r\n",
        "\r\n",
        "In this exercise, you'll first make an RDD using the sample_list which contains the list of tuples ('Mona',20), ('Jennifer',34),('John',20), ('Jim',26) with each tuple contains the name of the person and their age. Next, you'll create a DataFrame using the RDD and the schema (which is the list of 'Name' and 'Age') and finally confirm the output as PySpark DataFrame.\r\n",
        "\r\n",
        "Remember, you already have a SparkContext sc and SparkSession spark available in your workspace.\r\n",
        "\r\n",
        "Instructions\r\n",
        "\r\n",
        "1. Create a sample_list from tuples - ('Mona',20), ('Jennifer',34), ('John',20), ('Jim',26).\r\n",
        "\r\n",
        "2. Create an RDD from the sample_list.\r\n",
        "\r\n",
        "3. Create a PySpark DataFrame using the above RDD and schema.\r\n",
        "\r\n",
        "4. Confirm the output as PySpark DataFrame.\r\n"
      ]
    },
    {
      "cell_type": "code",
      "metadata": {
        "id": "IOuJgAkb1tQ0"
      },
      "source": [
        "# Create a list of tuples\r\n",
        "sample_list = [('Mona',20), ('Jennifer',34), ('John',20), ('Jim',26)]\r\n",
        "\r\n",
        "# Create a RDD from the list\r\n",
        "rdd = sc.parallelize(sample_list)\r\n",
        "\r\n",
        "# Create a PySpark DataFrame\r\n",
        "names_df = spark.createDataFrame(rdd, schema=['Name', 'Age'])\r\n",
        "\r\n",
        "# Check the type of names_df\r\n",
        "print(\"The type of names_df is\", type(names_df))\r\n",
        "\r\n",
        "'''\r\n",
        "<script.py> output:\r\n",
        "    The type of names_df is <class 'pyspark.sql.dataframe.DataFrame'>\r\n",
        "'''"
      ],
      "execution_count": null,
      "outputs": []
    },
    {
      "cell_type": "markdown",
      "metadata": {
        "id": "bxx4k23158zF"
      },
      "source": [
        "Conclusion\r\n",
        "\r\n",
        "Brilliant! Creating DataFrames from RDDs may not be a common practise but helps in certain circumstances."
      ]
    },
    {
      "cell_type": "markdown",
      "metadata": {
        "id": "KZFnaLtE5-zF"
      },
      "source": [
        "# Loading CSV into DataFrame\r\n",
        "\r\n",
        "In the previous exercise, you have seen a method of creating DataFrame but generally, loading data from CSV file is the most common method of creating DataFrames. In this exercise, you'll create a PySpark DataFrame from a people.csv file that is already provided to you as a file_path and confirm the created object is a PySpark DataFrame.\r\n",
        "\r\n",
        "Remember, you already have SparkSession spark and file_path variable (which is the path to the people.csv file) available in your workspace.\r\n",
        "\r\n",
        "Instructions\r\n",
        "\r\n",
        "1. Create a DataFrame from file_path variable which is the path to the people.csv file.\r\n",
        "\r\n",
        "2. Confirm the output as PySpark DataFrame.\r\n"
      ]
    },
    {
      "cell_type": "code",
      "metadata": {
        "id": "4zWKb7gM6RMW"
      },
      "source": [
        "# Create an DataFrame from file_path\r\n",
        "people_df = spark.read.csv(file_path, header=True, inferSchema=True)\r\n",
        "\r\n",
        "# Check the type of people_df\r\n",
        "print(\"The type of people_df is\", type(people_df))\r\n",
        "\r\n",
        "'''\r\n",
        "<script.py> output:\r\n",
        "    The type of people_df is <class 'pyspark.sql.dataframe.DataFrame'>\r\n",
        "'''"
      ],
      "execution_count": null,
      "outputs": []
    },
    {
      "cell_type": "markdown",
      "metadata": {
        "id": "KnIfPX0i6Wfm"
      },
      "source": [
        "Conclusion\r\n",
        "\r\n",
        "Nice! You'll be using spark.read.csv() method a lot in the next several exercises."
      ]
    },
    {
      "cell_type": "markdown",
      "metadata": {
        "id": "0EkzntzxGYlF"
      },
      "source": [
        "Operating on DataFrames in PySpark\r\n",
        "\r\n",
        "1. Interacting with PySpark DataFrames\r\n",
        "\r\n",
        "Just like RDDs, DataFrames also support both transformations and actions. In this video, you'll learn some DataFrame operations in PySpark.\r\n",
        "2. DataFrame operators in PySpark\r\n",
        "\r\n",
        "Similar to RDD operations, the DataFrame operations in PySpark can be divided into Transformations and Actions. PySpark DataFrame provides operations to filter, group, or compute aggregates, and can be used with PySpark SQL. Let's explore some of the most common DataFrame Transformations such as select, filter, groupby, orderby, dropDuplicates, withColumnRenamed and some common DataFrame Actions such as printSchema, show, count, columns and describe in this video.\r\n",
        "3. select() and show() operations\r\n",
        "\r\n",
        "Let's start with select and show operations. The select Transformation is used to extract one or more columns from a DataFrame. We need to pass the column name inside select operation. As an example, let’s select ‘Age’ columns from a test DataFrame. select is a Transformation and so it creates a new DataFrame and in order to print the rows from df_id_age DataFrame, we need to execute an Action. show is an Action that prints the first 20 rows by default. Let’s apply show(3) on df_id_age DataFrame and print the first 3 rows as shown in this example.\r\n",
        "4. filter() and show() operations\r\n",
        "\r\n",
        "Unlike select, the filter Transformation selects only rows that pass the condition specified. The parameter you pass is the column name and the value of what you want to filter that column on. For example, if we want to filter out the rows with 'Age' greater than 21, we pass the column expression (new_df-dot-Age) and the condition (greater than 21) as shown in here. We can use show(3) action to print out the first 3 rows from the new DataFrame.\r\n",
        "5. groupby() and count() operations\r\n",
        "\r\n",
        "The groupby Transformation groups the DataFrame using the specified columns, so we can run aggregation on them. To better understand, we will first group the 'Age' column and create another DataFrame. Then we will use count action that returns the total number of rows in the DataFrame and finally use show(3) operation to print the first 3 rows in the DataFrame. The result is a table that shows the first 3 Age groups and the corresponding number of members in each group.\r\n",
        "6. orderby() Transformations\r\n",
        "\r\n",
        "Orderby transformation returns a DataFrame sorted by the given columns. Let’s sort the test_df_age_group-dot-count that we obtained in the previous example based on ‘Age’ column and print out the first 3 rows of the DataFrame using show(3) action. As you can see the age groups have been sorted in ascending order now.\r\n",
        "7. dropDuplicates()\r\n",
        "\r\n",
        "The dropDuplicates transformation returns a new DataFrame with duplicate rows removed. Here is an example, where dropDuplicates transformation is used to remove duplicate rows in 'User_ID' 'Age' and 'Gender' columns and finally creating a new DataFrame. You can execute count action on this new DataFrame to print the number of non-duplicate rows.\r\n",
        "8. withColumnRenamed Transformations\r\n",
        "\r\n",
        "The withColumnRenamed transformation returns a new DataFrame by renaming an existing column. It takes two arguments: the names of the old and new columns. In this example, we rename the column name \"Gender\" to \"Sex\" and create a test_df_sex. We can use show(3) Action to print out the first 3 rows from the new DataFrame.\r\n",
        "9. printSchema()\r\n",
        "\r\n",
        "To check the types of columns in the DataFrame, we can use the printSchema action. Here is an example of printSchema action on test_df DataFrame that we used previously. printSchema prints out the schema in the tree format as shown here and helps to spot the issues with the schema of the data. As an example product_ID is shown as string even though it is supposed to be an integer.\r\n",
        "10. columns actions\r\n",
        "\r\n",
        "The columns operation returns the names of all the columns in the DataFrame as an array of string. Let’s print the column names in the test_df DataFrame. In this example, the test_df DataFrame has three columns 'User_ID', 'Gender' and 'Age'.\r\n",
        "11. describe() actions\r\n",
        "\r\n",
        "describe operation is used to calculate the summary statistics of the numerical columns in the DataFrame. If we don’t specify the name of columns it will calculate summary statistics for all numerical columns present in the DataFrame as shown in this example.\r\n",
        "12. Let's practice\r\n",
        "\r\n",
        "Now that you are familiar with DataFrame operations, let's practice using some these operations on a real world data. "
      ]
    },
    {
      "cell_type": "markdown",
      "metadata": {
        "id": "gctUZ-5mMMSR"
      },
      "source": [
        "# Inspecting data in PySpark DataFrame\r\n",
        "\r\n",
        "Inspecting data is very crucial before performing analysis such as plotting, modeling, training etc., In this simple exercise, you'll inspect the data in the people_df DataFrame that you have created in the previous exercise using basic DataFrame operators.\r\n",
        "\r\n",
        "Remember, you already have SparkSession spark and people_df DataFrame available in your workspace.\r\n",
        "\r\n",
        "Instructions\r\n",
        "\r\n",
        "1. Print the first 10 observations in the people_df DataFrame.\r\n",
        "\r\n",
        "2. Count the number of rows in the people_df DataFrame.\r\n",
        "\r\n",
        "3. How many columns does people_df DataFrame have and what are their names?\r\n"
      ]
    },
    {
      "cell_type": "code",
      "metadata": {
        "id": "Jc2B_5UtNBOz"
      },
      "source": [
        "# Print the first 10 observations \r\n",
        "people_df.show(10)\r\n",
        "\r\n",
        "# Count the number of rows \r\n",
        "print(\"There are {} rows in the people_df DataFrame.\".format(people_df.count()))\r\n",
        "\r\n",
        "# Count the number of columns and their names\r\n",
        "print(\"There are {} columns in the people_df DataFrame and their names are {}\".format(len(people_df.columns), people_df.columns))\r\n",
        "\r\n",
        "'''\r\n",
        "<script.py> output:\r\n",
        "    +---+---------+----------------+------+-------------+\r\n",
        "    |_c0|person_id|            name|   sex|date of birth|\r\n",
        "    +---+---------+----------------+------+-------------+\r\n",
        "    |  0|      100|  Penelope Lewis|female|   1990-08-31|\r\n",
        "    |  1|      101|   David Anthony|  male|   1971-10-14|\r\n",
        "    |  2|      102|       Ida Shipp|female|   1962-05-24|\r\n",
        "    |  3|      103|    Joanna Moore|female|   2017-03-10|\r\n",
        "    |  4|      104|  Lisandra Ortiz|female|   2020-08-05|\r\n",
        "    |  5|      105|   David Simmons|  male|   1999-12-30|\r\n",
        "    |  6|      106|   Edward Hudson|  male|   1983-05-09|\r\n",
        "    |  7|      107|    Albert Jones|  male|   1990-09-13|\r\n",
        "    |  8|      108|Leonard Cavender|  male|   1958-08-08|\r\n",
        "    |  9|      109|  Everett Vadala|  male|   2005-05-24|\r\n",
        "    +---+---------+----------------+------+-------------+\r\n",
        "    only showing top 10 rows\r\n",
        "    \r\n",
        "    There are 100000 rows in the people_df DataFrame.\r\n",
        "    There are 5 columns in the people_df DataFrame and their names are ['_c0', 'person_id', 'name', 'sex', 'date of birth']\r\n",
        "'''"
      ],
      "execution_count": null,
      "outputs": []
    },
    {
      "cell_type": "markdown",
      "metadata": {
        "id": "KORqZNKXNIds"
      },
      "source": [
        "Conclusion\r\n",
        "\r\n",
        "That is nicely done. PySpark DataFrames make it easy for performing exploratory data analysis with easy to use operators."
      ]
    },
    {
      "cell_type": "markdown",
      "metadata": {
        "id": "iYDG6YSCNVFt"
      },
      "source": [
        "# PySpark DataFrame subsetting and cleaning\r\n",
        "\r\n",
        "After data inspection, it is often necessary to clean the data which mainly involves subsetting, renaming the columns, removing duplicated rows etc., PySpark DataFrame API provides several operators to do this. In this exercise, your job is to subset 'name', 'sex' and 'date of birth' columns from people_df DataFrame, remove any duplicate rows from that dataset and count the number of rows before and after duplicates removal step.\r\n",
        "\r\n",
        "Remember, you already have SparkSession spark and people_df DataFrames available in your workspace.\r\n",
        "\r\n",
        "Instructions\r\n",
        "\r\n",
        "1. Select 'name', 'sex' and 'date of birth' columns from people_df and create people_df_sub DataFrame.\r\n",
        "\r\n",
        "2. Print the first 10 observations in the people_df DataFrame.\r\n",
        "\r\n",
        "3. Remove duplicate entries from people_df_sub DataFrame and create people_df_sub_nodup DataFrame.\r\n",
        "\r\n",
        "4. How many rows are there before and after duplicates are removed?\r\n"
      ]
    },
    {
      "cell_type": "code",
      "metadata": {
        "id": "DClNtXxJNoOx"
      },
      "source": [
        "# Select name, sex and date of birth columns\r\n",
        "people_df_sub = people_df.select('name', 'sex', 'date of birth')\r\n",
        "\r\n",
        "# Print the first 10 observations from people_df_sub\r\n",
        "people_df_sub.show(10)\r\n",
        "\r\n",
        "# Remove duplicate entries from people_df_sub\r\n",
        "people_df_sub_nodup = people_df_sub.dropDuplicates()\r\n",
        "\r\n",
        "# Count the number of rows\r\n",
        "print(\"There were {} rows before removing duplicates, and {} rows after removing duplicates\".format(people_df_sub.count(), people_df_sub_nodup.count()))\r\n",
        "\r\n",
        "'''\r\n",
        "<script.py> output:\r\n",
        "    +----------------+------+-------------+\r\n",
        "    |            name|   sex|date of birth|\r\n",
        "    +----------------+------+-------------+\r\n",
        "    |  Penelope Lewis|female|   1990-08-31|\r\n",
        "    |   David Anthony|  male|   1971-10-14|\r\n",
        "    |       Ida Shipp|female|   1962-05-24|\r\n",
        "    |    Joanna Moore|female|   2017-03-10|\r\n",
        "    |  Lisandra Ortiz|female|   2020-08-05|\r\n",
        "    |   David Simmons|  male|   1999-12-30|\r\n",
        "    |   Edward Hudson|  male|   1983-05-09|\r\n",
        "    |    Albert Jones|  male|   1990-09-13|\r\n",
        "    |Leonard Cavender|  male|   1958-08-08|\r\n",
        "    |  Everett Vadala|  male|   2005-05-24|\r\n",
        "    +----------------+------+-------------+\r\n",
        "    only showing top 10 rows\r\n",
        "    \r\n",
        "    There were 100000 rows before removing duplicates, and 99998 rows after removing duplicates\r\n",
        "'''"
      ],
      "execution_count": null,
      "outputs": []
    },
    {
      "cell_type": "markdown",
      "metadata": {
        "id": "X9TwD4qYOaL6"
      },
      "source": [
        "Conclusion\r\n",
        "\r\n",
        "Good job! dropDuplicates() is very useful operator in PySpark DataFrames."
      ]
    },
    {
      "cell_type": "markdown",
      "metadata": {
        "id": "lV4h0-0MOexE"
      },
      "source": [
        "# Filtering your DataFrame\r\n",
        "\r\n",
        "In the previous exercise, you have subset the data using select() operator which is mainly used to subset the DataFrame column-wise. What if you want to subset the DataFrame based on a condition (for example, select all rows where the sex is Female). In this exercise, you will filter the rows in the people_df DataFrame in which 'sex' is female and male and create two different datasets. Finally, you'll count the number of rows in each of those datasets.\r\n",
        "\r\n",
        "Remember, you already have SparkSession spark and people_df DataFrame available in your workspace.\r\n",
        "\r\n",
        "Instructions\r\n",
        "\r\n",
        "1. Filter the people_df DataFrame to select all rows where sex is female into people_df_female DataFrame.\r\n",
        "\r\n",
        "2. Filter the people_df DataFrame to select all rows where sex is male into people_df_male DataFrame.\r\n",
        "\r\n",
        "3. Count the number of rows in people_df_female and people_df_male DataFrames.\r\n"
      ]
    },
    {
      "cell_type": "code",
      "metadata": {
        "id": "9yEkcNKlPtxY"
      },
      "source": [
        "# Filter people_df to select females \r\n",
        "people_df_female = people_df.filter(people_df.sex == \"female\")\r\n",
        "\r\n",
        "# Filter people_df to select males\r\n",
        "people_df_male = people_df.filter(people_df.sex == \"male\")\r\n",
        "\r\n",
        "# Count the number of rows \r\n",
        "print(\"There are {} rows in the people_df_female DataFrame and {} rows in the people_df_male DataFrame\".format(people_df_female.count(), people_df_male.count()))\r\n",
        "\r\n",
        "'''\r\n",
        "In [1]:\r\n",
        "people_df.show()\r\n",
        "+---+---------+-----------------+------+-------------+\r\n",
        "|_c0|person_id|             name|   sex|date of birth|\r\n",
        "+---+---------+-----------------+------+-------------+\r\n",
        "|  0|      100|   Penelope Lewis|female|   1990-08-31|\r\n",
        "|  1|      101|    David Anthony|  male|   1971-10-14|\r\n",
        "|  2|      102|        Ida Shipp|female|   1962-05-24|\r\n",
        "|  3|      103|     Joanna Moore|female|   2017-03-10|\r\n",
        "|  4|      104|   Lisandra Ortiz|female|   2020-08-05|\r\n",
        "|  5|      105|    David Simmons|  male|   1999-12-30|\r\n",
        "|  6|      106|    Edward Hudson|  male|   1983-05-09|\r\n",
        "|  7|      107|     Albert Jones|  male|   1990-09-13|\r\n",
        "|  8|      108| Leonard Cavender|  male|   1958-08-08|\r\n",
        "|  9|      109|   Everett Vadala|  male|   2005-05-24|\r\n",
        "| 10|      110| Freddie Claridge|  male|   2002-05-07|\r\n",
        "| 11|      111|Annabelle Rosseau|female|   1989-07-13|\r\n",
        "| 12|      112|    Eulah Emanuel|female|   1976-01-19|\r\n",
        "| 13|      113|       Shaun Love|  male|   1970-05-26|\r\n",
        "| 14|      114|Alejandro Brennan|  male|   1980-12-22|\r\n",
        "| 15|      115|Robert Mcreynolds|  male|   1973-12-27|\r\n",
        "| 16|      116|   Carla Spickard|female|   1985-06-13|\r\n",
        "| 17|      117|Florence Eberhart|female|   2024-06-01|\r\n",
        "| 18|      118|     Tina Gaskins|female|   1966-12-05|\r\n",
        "| 19|      119| Florence Mulhern|female|   1959-05-31|\r\n",
        "+---+---------+-----------------+------+-------------+\r\n",
        "only showing top 20 rows\r\n",
        "\r\n",
        "<script.py> output:\r\n",
        "    There are 49014 rows in the people_df_female DataFrame and 49066 rows in the people_df_male DataFrame\r\n",
        "\r\n",
        "'''"
      ],
      "execution_count": null,
      "outputs": []
    },
    {
      "cell_type": "markdown",
      "metadata": {
        "id": "sXZMwIASP3mr"
      },
      "source": [
        "Conclusion\r\n",
        "\r\n",
        "That is nicely done. PySpark DataFrames make it easy for performing exploratory data analysis with easy to use operators."
      ]
    },
    {
      "cell_type": "markdown",
      "metadata": {
        "id": "KPyWV484P7yA"
      },
      "source": [
        "# Interacting with DataFrames using PySpark SQL\r\n",
        "\r\n",
        "1. Interacting with DataFrames using PySpark SQL\r\n",
        "\r\n",
        "Previously, you have seen how to interact with PySparkSQL using DataFrame API. In this video, you'll learn how to interact with PySparkSQL using SQL query.\r\n",
        "2. DataFrame API vs SQL queries\r\n",
        "\r\n",
        "In addition to DataFrame API, PySpark SQL allows you to manipulate DataFrames with SQL queries. What you can do using DataFrames API, can be done using SQL queries and vice versa. So what are the differences between DataFrames API and SQL queries? The DataFrames API provides a programmatic interface – basically a domain-specific language (DSL) for interacting with data. DataFrame queries are much easier to construct programmatically. Plain SQL queries can be significantly more concise and easier to understand. They are also portable and can be used without any modifications with every supported language. Many of the DataFrame operations that you have seen in the previous chapter, can be done using SQL queries.\r\n",
        "3. Executing SQL Queries\r\n",
        "\r\n",
        "The SparkSession provides a method called sql which can be used to execute a SQL query. The sql method takes a SQL statement as an argument and returns a DataFrame representing the result of the given query. Unfortunately, SQL queries cannot be run directly against a DataFrame. To issue SQL queries against an existing DataFrame we can leverage the createOrReplaceTempView function to build a temporary table as shown in this example. After creating the temporary table, we can simply use the sql method, which allows us to write SQL code to manipulate data within a DataFrame. In this example, we simply extract two columns field1 and field2 from the table using SELECT. Since the result is a DataFrame, you can run DataFrame actions such as collect, first, show etc. An example of collect action is shown here. In the previous\r\n",
        "4. SQL query to extract data\r\n",
        "\r\n",
        "lesson, you have seen how to use select operation to subset the data from a DataFrame. Here is an example of how you can do the same with a SQL query. In this example, we will first construct the query for selecting the Product_ID column form the temporary table. Next we will pass the query to the SparkSession's sql method to create a new DataFrame. Because the result of SQL query returns a DataFrame, all the usual DataFrame operations are available. Here we can use show(5) action to print the first 5 rows of the DataFrame. The SQL queries are\r\n",
        "5. Summarizing and grouping data using SQL queries\r\n",
        "\r\n",
        "not limited to extracting data as seen in the previous slide. We can also create SQL queries to run aggregations. In this example, we first construct a query for selecting 'Age' and 'Purchase' columns, then aggregate the total of all the purchases, the maximum per Age group. We can then provide the query to the SparkSession's sql method and use show(5) action to print out the first 5 rows as seen in here. In addition to extracting and summarizing the data,\r\n",
        "6. Filtering columns using SQL queries\r\n",
        "\r\n",
        "Spark SQL queries can also be constructed for filtering the rows from a DataFrame. Suppose you want to filter out the rows of Age, Purchase and Gender columns where the Gender is Female and purchase is greater than 20000, you can construct a query as shown in this example. You can confirm whether or not query worked by providing the query to the SparkSession's sql method and using show(5) action to print out the first 5 rows as shown in this example. Let's practice some SQL\r\n",
        "7. Time to practice!\r\n",
        "\r\n",
        "within PySpark shell now! "
      ]
    },
    {
      "cell_type": "markdown",
      "metadata": {
        "id": "wqFWApcgQkVo"
      },
      "source": [
        "# Running SQL Queries Programmatically\r\n",
        "\r\n",
        "DataFrames can easily be manipulated using SQL queries in PySpark. The sql() function on a SparkSession enables applications to run SQL queries programmatically and returns the result as another DataFrame. In this exercise, you'll create a temporary table of the people_df DataFrame that you created previously, then construct a query to select the names of the people from the temporary table and assign the result to a new DataFrame.\r\n",
        "\r\n",
        "Remember, you already have SparkSession spark and people_df DataFrame available in your workspace.\r\n",
        "\r\n",
        "Instructions\r\n",
        "\r\n",
        "1. Create a temporary table people that's a pointer to the people_df DataFrame.\r\n",
        "\r\n",
        "2. Construct a query to select the names of the people from the temporary table people.\r\n",
        "\r\n",
        "3. Assign the result of Spark's query to a new DataFrame - people_df_names.\r\n",
        "\r\n",
        "4. Print the top 10 names of the people from people_df_names DataFrame.\r\n"
      ]
    },
    {
      "cell_type": "code",
      "metadata": {
        "id": "jOBOdeo0StPK"
      },
      "source": [
        "# Create a temporary table \"people\"\r\n",
        "people_df.createOrReplaceTempView(\"people\")\r\n",
        "\r\n",
        "# Construct a query to select the names of the people from the temporary table \"people\"\r\n",
        "query = '''SELECT name FROM people'''\r\n",
        "\r\n",
        "# Assign the result of Spark's query to people_df_names\r\n",
        "people_df_names = spark.sql(query)\r\n",
        "\r\n",
        "# Print the top 10 names of the people\r\n",
        "people_df_names.show(10)\r\n",
        "\r\n",
        "'''\r\n",
        "<script.py> output:\r\n",
        "    +----------------+\r\n",
        "    |            name|\r\n",
        "    +----------------+\r\n",
        "    |  Penelope Lewis|\r\n",
        "    |   David Anthony|\r\n",
        "    |       Ida Shipp|\r\n",
        "    |    Joanna Moore|\r\n",
        "    |  Lisandra Ortiz|\r\n",
        "    |   David Simmons|\r\n",
        "    |   Edward Hudson|\r\n",
        "    |    Albert Jones|\r\n",
        "    |Leonard Cavender|\r\n",
        "    |  Everett Vadala|\r\n",
        "    +----------------+\r\n",
        "    only showing top 10 rows\r\n",
        "'''"
      ],
      "execution_count": null,
      "outputs": []
    },
    {
      "cell_type": "markdown",
      "metadata": {
        "id": "acE66BfwTI44"
      },
      "source": [
        "Conclusion\r\n",
        "\r\n",
        "Good job on running your first SQL query successfully!!! Spark SQL operations generally return DataFrames. This means you can freely mix DataFrames and SQL."
      ]
    },
    {
      "cell_type": "markdown",
      "metadata": {
        "id": "zP1HICxyTToF"
      },
      "source": [
        "# SQL queries for filtering Table\r\n",
        "\r\n",
        "In the previous exercise, you have run a simple SQL query on a DataFrame. There are more sophisticated queries you can construct to obtain the result that you want and use it for downstream analysis such as data visualization and Machine Learning. In this exercise, we will use the temporary table people that you created previously and filter out the rows where the \"sex\" is male and female and create two DataFrames.\r\n",
        "\r\n",
        "Remember, you already have SparkSession spark and people temporary table available in your workspace.\r\n",
        "\r\n",
        "Instructions\r\n",
        "\r\n",
        "1. Filter the people table to select all rows where sex is female into people_female_df DataFrame.\r\n",
        "\r\n",
        "2. Filter the people table to select all rows where sex is male into people_male_df DataFrame.\r\n",
        "\r\n",
        "3. Count the number of rows in both people_female and people_male DataFrames.\r\n"
      ]
    },
    {
      "cell_type": "code",
      "metadata": {
        "id": "qJf2uV4yUXYy"
      },
      "source": [
        "# Filter the people table to select female sex \r\n",
        "people_female_df = spark.sql('SELECT * FROM people WHERE sex==\"female\"')\r\n",
        "\r\n",
        "# Filter the people table DataFrame to select male sex\r\n",
        "people_male_df = spark.sql('SELECT * FROM people WHERE sex==\"male\"')\r\n",
        "\r\n",
        "# Count the number of rows in both DataFrames\r\n",
        "print(\"There are {} rows in the people_female_df and {} rows in the people_male_df DataFrames\".format(people_female_df.count(), people_male_df.count()))\r\n",
        "\r\n",
        "'''\r\n",
        "<script.py> output:\r\n",
        "    There are 49014 rows in the people_female_df and 49066 rows in the people_male_df DataFrames\r\n",
        "'''"
      ],
      "execution_count": null,
      "outputs": []
    },
    {
      "cell_type": "markdown",
      "metadata": {
        "id": "qHDJydzIU2js"
      },
      "source": [
        "Conclusion\r\n",
        "\r\n",
        "That is nicely done! Now that you have used filter() with both Dataframe API and SQL query. Which one do you prefer?"
      ]
    },
    {
      "cell_type": "markdown",
      "metadata": {
        "id": "08q7nGCWU6X2"
      },
      "source": [
        "# Data Visualization in PySpark using DataFrames\r\n",
        "\r\n",
        "1. Data Visualization in PySpark using DataFrames\r\n",
        "\r\n",
        "Visualization is an essential part of data analysis. In this video, we will explore some visualization methods that can help us make sense of our data in PySpark DataFrames.\r\n",
        "2. What is Data visualization?\r\n",
        "\r\n",
        "Data visualization is the way of representing your data in form of graphs or charts. It is considered a crucial component of Exploratory Data Analysis (EDA). Several open source tools exist to aid visualization in Python such as matplotlib, Seaborn, Bokeh etc. However, none of these visualization tools can be used directly with PySpark's DataFrames. Currently, there are three different methods available to create charts using PySpark DataFrames - pyspark_dist_explore library, toPandas method, and HandySpark toPandas. Let's understand each of these methods with examples.\r\n",
        "3. Data Visualization using Pyspark_dist_explore\r\n",
        "\r\n",
        "Pyspark_dist_explore is a plotting library to get quick insights on data in PySpark DataFrames. There are 3 functions available in Pyspark_dist_explore to create matplotlib graphs while minimizing the amount of computation needed - hist, distplot and pandas_histogram. Here is an example of creating a histogram using the Pyspark_dist_explore package on the test_df data. First, the CSV file is loaded into Spark DataFrame using the SparkSession's read-dot-csv method. Then we select the age column from the test_df DataFrame using the select operation. Finally we use the hist function of the Pyspark_dist_explore package to plot a histogram of 'Age' in the test_df_age dataset. The second method\r\n",
        "4. Using Pandas for plotting DataFrames\r\n",
        "\r\n",
        "of creating charts is by using toPandas on PySpark DataFrames which converts the PySpark DataFrame into a Pandas DataFrame. After conversion, it's easy to create charts from pandas DataFrames using matplotlib or seaborn plotting tools. In this example, first, the CSV is loaded in Spark DataFrame using read-dot-csv method. Next, using toPandas method, we will convert the Spark DataFrame into Pandas DataFrame. Finally, we will create a histogram of the \"Age\" column using matplotlib's hist method. Before we look at the third method, let's take a look at the differences between Pandas\r\n",
        "5. Pandas DataFrame vs PySpark DataFrame\r\n",
        "\r\n",
        "vs Spark DataFrames. But, Pandas won’t work in every case. It is a single machine tool and constrained by single machine limits. So their size is limited by your server memory, and you will process them with the power of a single server. In contrast, operations on Pyspark DataFrames run parallel on different nodes in the cluster. In pandas DataFrames, we get the result as soon as we apply any operation Whereas operations in PySpark DataFrames are lazy in nature. You can change a Pandas DataFrame using methods. We can’t change a PySpark DataFrame due to its immutable property. Finally, the Pandas API supports more operations than PySpark DataFrames. The final method of\r\n",
        "6. HandySpark method of visualization\r\n",
        "\r\n",
        "creating charts is using HandySpark libary, which is a relatively a new package. HandySpark is designed to improve PySpark user experience, especially when it comes to exploratory data analysis, including visualization capabilities. It makes fetching data or computing statistics for columns really easy, returning pandas objects straight away. It brings the long-missing capability of plotting data while retaining the advantage of performing the distributed computation. Here is an example of the HandySpark method for creating a histogram. Just like before, we load the CSV into a PySpark DataFrame using SparkSession's read-dot-csv method. After creating the DataFrame, we convert the DataFrame to a HandySpark DataFrame using the toHandy method. Finally, we create a histogram of the Age column using the hist function of HandySpark library. We have learned three exciting\r\n",
        "7. Let's visualize DataFrames\r\n",
        "\r\n",
        "methods of visualizing PySpark DataFrames and let's practice creating some charts with them now on real-world datasets now. "
      ]
    },
    {
      "cell_type": "markdown",
      "metadata": {
        "id": "DLPeh7WgV4oM"
      },
      "source": [
        "# PySpark DataFrame visualization\r\n",
        "\r\n",
        "Graphical representations or visualization of data is imperative for understanding as well as interpreting the data. In this simple data visualization exercise, you'll first print the column names of names_df DataFrame that you created earlier, then convert the names_df to Pandas DataFrame and finally plot the contents as horizontal bar plot with names of the people on the x-axis and their age on the y-axis.\r\n",
        "\r\n",
        "Remember, you already have SparkSession spark and names_df DataFrame available in your workspace.\r\n",
        "\r\n",
        "Instructions\r\n",
        "\r\n",
        "1. Print the names of the columns in names_df DataFrame.\r\n",
        "\r\n",
        "2. Convert names_df DataFrame to df_pandas Pandas DataFrame.\r\n",
        "\r\n",
        "3. Use matplotlib's plot() method to create a horizontal bar plot with 'Name' on x-axis and 'Age' on y-axis.\r\n"
      ]
    },
    {
      "cell_type": "code",
      "metadata": {
        "id": "5yqWFtqPYgx8"
      },
      "source": [
        "# Check the column names of names_df\r\n",
        "print(\"The column names of names_df are\", names_df.columns)\r\n",
        "\r\n",
        "# Convert to Pandas DataFrame  \r\n",
        "df_pandas = names_df.toPandas()\r\n",
        "\r\n",
        "# Create a horizontal bar plot\r\n",
        "df_pandas.plot(kind='barh', x='Name', y='Age', colormap='winter_r')\r\n",
        "plt.show()\r\n",
        "\r\n",
        "'''\r\n",
        "<script.py> output:\r\n",
        "    The column names of names_df are ['Name', 'Age']\r\n",
        "'''"
      ],
      "execution_count": null,
      "outputs": []
    },
    {
      "cell_type": "markdown",
      "metadata": {
        "id": "LOPR0EUBYk4-"
      },
      "source": [
        "Conclusion\r\n",
        "\r\n",
        "Awesome! You'll get to use other PySpark DataFrame packages for visualization in the next few exercises.\r\n",
        "\r\n",
        "![image.png](data:image/png;base64,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)"
      ]
    },
    {
      "cell_type": "markdown",
      "metadata": {
        "id": "3zEF5l7mYql2"
      },
      "source": [
        "# Part 1: Create a DataFrame from CSV file\r\n",
        "\r\n",
        "Every 4 years, the soccer fans throughout the world celebrates a festival called “Fifa World Cup” and with that, everything seems to change in many countries. In this 3 part exercise, you'll be doing some exploratory data analysis (EDA) on the \"FIFA 2018 World Cup Player\" dataset using PySpark SQL which involve DataFrame operations, SQL queries and visualization.\r\n",
        "\r\n",
        "In the first part, you'll load FIFA 2018 World Cup Players dataset (Fifa2018_dataset.csv) which is in CSV format into a PySpark's dataFrame and inspect the data using basic DataFrame operations.\r\n",
        "\r\n",
        "Remember, you already have SparkSession spark and file_path variable (which is the path to the Fifa2018_dataset.csv file) available in your workspace.\r\n",
        "\r\n",
        "Instructions\r\n",
        "\r\n",
        "1. Create a PySpark DataFrame from file_path which is the path to the Fifa2018_dataset.csv file.\r\n",
        "\r\n",
        "2. Print the schema of the DataFrame.\r\n",
        "\r\n",
        "3. Print the first 10 observations.\r\n",
        "\r\n",
        "4. How many rows are in there in the DataFrame?\r\n"
      ]
    },
    {
      "cell_type": "code",
      "metadata": {
        "id": "SNZk0LPDZu_l"
      },
      "source": [
        "# Load the Dataframe\r\n",
        "fifa_df = spark.read.csv(file_path, header=True, inferSchema=True)\r\n",
        "\r\n",
        "# Check the schema of columns\r\n",
        "fifa_df.printSchema()\r\n",
        "\r\n",
        "# Show the first 10 observations\r\n",
        "fifa_df.show(10)\r\n",
        "\r\n",
        "# Print the total number of rows\r\n",
        "print(\"There are {} rows in the fifa_df DataFrame\".format(fifa_df.count()))\r\n",
        "\r\n",
        "'''\r\n",
        "<script.py> output:\r\n",
        "    root\r\n",
        "     |-- _c0: integer (nullable = true)\r\n",
        "     |-- Name: string (nullable = true)\r\n",
        "     |-- Age: integer (nullable = true)\r\n",
        "     |-- Photo: string (nullable = true)\r\n",
        "     |-- Nationality: string (nullable = true)\r\n",
        "     |-- Flag: string (nullable = true)\r\n",
        "     |-- Overall: integer (nullable = true)\r\n",
        "     |-- Potential: integer (nullable = true)\r\n",
        "     |-- Club: string (nullable = true)\r\n",
        "     |-- Club Logo: string (nullable = true)\r\n",
        "     |-- Value: string (nullable = true)\r\n",
        "     |-- Wage: string (nullable = true)\r\n",
        "     |-- Special: integer (nullable = true)\r\n",
        "     |-- Acceleration: string (nullable = true)\r\n",
        "     |-- Aggression: string (nullable = true)\r\n",
        "     |-- Agility: string (nullable = true)\r\n",
        "     |-- Balance: string (nullable = true)\r\n",
        "     |-- Ball control: string (nullable = true)\r\n",
        "     |-- Composure: string (nullable = true)\r\n",
        "     |-- Crossing: string (nullable = true)\r\n",
        "     |-- Curve: string (nullable = true)\r\n",
        "     |-- Dribbling: string (nullable = true)\r\n",
        "     |-- Finishing: string (nullable = true)\r\n",
        "     |-- Free kick accuracy: string (nullable = true)\r\n",
        "     |-- GK diving: string (nullable = true)\r\n",
        "     |-- GK handling: string (nullable = true)\r\n",
        "     |-- GK kicking: string (nullable = true)\r\n",
        "     |-- GK positioning: string (nullable = true)\r\n",
        "     |-- GK reflexes: string (nullable = true)\r\n",
        "     |-- Heading accuracy: string (nullable = true)\r\n",
        "     |-- Interceptions: string (nullable = true)\r\n",
        "     |-- Jumping: string (nullable = true)\r\n",
        "     |-- Long passing: string (nullable = true)\r\n",
        "     |-- Long shots: string (nullable = true)\r\n",
        "     |-- Marking: string (nullable = true)\r\n",
        "     |-- Penalties: string (nullable = true)\r\n",
        "     |-- Positioning: string (nullable = true)\r\n",
        "     |-- Reactions: string (nullable = true)\r\n",
        "     |-- Short passing: string (nullable = true)\r\n",
        "     |-- Shot power: string (nullable = true)\r\n",
        "     |-- Sliding tackle: string (nullable = true)\r\n",
        "     |-- Sprint speed: string (nullable = true)\r\n",
        "     |-- Stamina: string (nullable = true)\r\n",
        "     |-- Standing tackle: string (nullable = true)\r\n",
        "     |-- Strength: string (nullable = true)\r\n",
        "     |-- Vision: string (nullable = true)\r\n",
        "     |-- Volleys: string (nullable = true)\r\n",
        "     |-- CAM: double (nullable = true)\r\n",
        "     |-- CB: double (nullable = true)\r\n",
        "     |-- CDM: double (nullable = true)\r\n",
        "     |-- CF: double (nullable = true)\r\n",
        "     |-- CM: double (nullable = true)\r\n",
        "     |-- ID: integer (nullable = true)\r\n",
        "     |-- LAM: double (nullable = true)\r\n",
        "     |-- LB: double (nullable = true)\r\n",
        "     |-- LCB: double (nullable = true)\r\n",
        "     |-- LCM: double (nullable = true)\r\n",
        "     |-- LDM: double (nullable = true)\r\n",
        "     |-- LF: double (nullable = true)\r\n",
        "     |-- LM: double (nullable = true)\r\n",
        "     |-- LS: double (nullable = true)\r\n",
        "     |-- LW: double (nullable = true)\r\n",
        "     |-- LWB: double (nullable = true)\r\n",
        "     |-- Preferred Positions: string (nullable = true)\r\n",
        "     |-- RAM: double (nullable = true)\r\n",
        "     |-- RB: double (nullable = true)\r\n",
        "     |-- RCB: double (nullable = true)\r\n",
        "     |-- RCM: double (nullable = true)\r\n",
        "     |-- RDM: double (nullable = true)\r\n",
        "     |-- RF: double (nullable = true)\r\n",
        "     |-- RM: double (nullable = true)\r\n",
        "     |-- RS: double (nullable = true)\r\n",
        "     |-- RW: double (nullable = true)\r\n",
        "     |-- RWB: double (nullable = true)\r\n",
        "     |-- ST: double (nullable = true)\r\n",
        "    \r\n",
        "    +---+-----------------+---+--------------------+-----------+--------------------+-------+---------+-------------------+--------------------+------+-----+-------+------------+----------+-------+-------+------------+---------+--------+-----+---------+---------+------------------+---------+-----------+----------+--------------+-----------+----------------+-------------+-------+------------+----------+-------+---------+-----------+---------+-------------+----------+--------------+------------+-------+---------------+--------+------+-------+----+----+----+----+----+------+----+----+----+----+----+----+----+----+----+----+-------------------+----+----+----+----+----+----+----+----+----+----+----+\r\n",
        "    |_c0|             Name|Age|               Photo|Nationality|                Flag|Overall|Potential|               Club|           Club Logo| Value| Wage|Special|Acceleration|Aggression|Agility|Balance|Ball control|Composure|Crossing|Curve|Dribbling|Finishing|Free kick accuracy|GK diving|GK handling|GK kicking|GK positioning|GK reflexes|Heading accuracy|Interceptions|Jumping|Long passing|Long shots|Marking|Penalties|Positioning|Reactions|Short passing|Shot power|Sliding tackle|Sprint speed|Stamina|Standing tackle|Strength|Vision|Volleys| CAM|  CB| CDM|  CF|  CM|    ID| LAM|  LB| LCB| LCM| LDM|  LF|  LM|  LS|  LW| LWB|Preferred Positions| RAM|  RB| RCB| RCM| RDM|  RF|  RM|  RS|  RW| RWB|  ST|\r\n",
        "    +---+-----------------+---+--------------------+-----------+--------------------+-------+---------+-------------------+--------------------+------+-----+-------+------------+----------+-------+-------+------------+---------+--------+-----+---------+---------+------------------+---------+-----------+----------+--------------+-----------+----------------+-------------+-------+------------+----------+-------+---------+-----------+---------+-------------+----------+--------------+------------+-------+---------------+--------+------+-------+----+----+----+----+----+------+----+----+----+----+----+----+----+----+----+----+-------------------+----+----+----+----+----+----+----+----+----+----+----+\r\n",
        "    |  0|Cristiano Ronaldo| 32|https://cdn.sofif...|   Portugal|https://cdn.sofif...|     94|       94|     Real Madrid CF|https://cdn.sofif...|€95.5M|€565K|   2228|          89|        63|     89|     63|          93|       95|      85|   81|       91|       94|                76|        7|         11|        15|            14|         11|              88|           29|     95|          77|        92|     22|       85|         95|       96|           83|        94|            23|          91|     92|             31|      80|    85|     88|89.0|53.0|62.0|91.0|82.0| 20801|89.0|61.0|53.0|82.0|62.0|91.0|89.0|92.0|91.0|66.0|             ST LW |89.0|61.0|53.0|82.0|62.0|91.0|89.0|92.0|91.0|66.0|92.0|\r\n",
        "    |  1|         L. Messi| 30|https://cdn.sofif...|  Argentina|https://cdn.sofif...|     93|       93|       FC Barcelona|https://cdn.sofif...| €105M|€565K|   2154|          92|        48|     90|     95|          95|       96|      77|   89|       97|       95|                90|        6|         11|        15|            14|          8|              71|           22|     68|          87|        88|     13|       74|         93|       95|           88|        85|            26|          87|     73|             28|      59|    90|     85|92.0|45.0|59.0|92.0|84.0|158023|92.0|57.0|45.0|84.0|59.0|92.0|90.0|88.0|91.0|62.0|                RW |92.0|57.0|45.0|84.0|59.0|92.0|90.0|88.0|91.0|62.0|88.0|\r\n",
        "    |  2|           Neymar| 25|https://cdn.sofif...|     Brazil|https://cdn.sofif...|     92|       94|Paris Saint-Germain|https://cdn.sofif...| €123M|€280K|   2100|          94|        56|     96|     82|          95|       92|      75|   81|       96|       89|                84|        9|          9|        15|            15|         11|              62|           36|     61|          75|        77|     21|       81|         90|       88|           81|        80|            33|          90|     78|             24|      53|    80|     83|88.0|46.0|59.0|88.0|79.0|190871|88.0|59.0|46.0|79.0|59.0|88.0|87.0|84.0|89.0|64.0|                LW |88.0|59.0|46.0|79.0|59.0|88.0|87.0|84.0|89.0|64.0|84.0|\r\n",
        "    |  3|        L. Suárez| 30|https://cdn.sofif...|    Uruguay|https://cdn.sofif...|     92|       92|       FC Barcelona|https://cdn.sofif...|  €97M|€510K|   2291|          88|        78|     86|     60|          91|       83|      77|   86|       86|       94|                84|       27|         25|        31|            33|         37|              77|           41|     69|          64|        86|     30|       85|         92|       93|           83|        87|            38|          77|     89|             45|      80|    84|     88|87.0|58.0|65.0|88.0|80.0|176580|87.0|64.0|58.0|80.0|65.0|88.0|85.0|88.0|87.0|68.0|                ST |87.0|64.0|58.0|80.0|65.0|88.0|85.0|88.0|87.0|68.0|88.0|\r\n",
        "    |  4|         M. Neuer| 31|https://cdn.sofif...|    Germany|https://cdn.sofif...|     92|       92|   FC Bayern Munich|https://cdn.sofif...|  €61M|€230K|   1493|          58|        29|     52|     35|          48|       70|      15|   14|       30|       13|                11|       91|         90|        95|            91|         89|              25|           30|     78|          59|        16|     10|       47|         12|       85|           55|        25|            11|          61|     44|             10|      83|    70|     11|null|null|null|null|null|167495|null|null|null|null|null|null|null|null|null|null|                GK |null|null|null|null|null|null|null|null|null|null|null|\r\n",
        "    |  5|   R. Lewandowski| 28|https://cdn.sofif...|     Poland|https://cdn.sofif...|     91|       91|   FC Bayern Munich|https://cdn.sofif...|  €92M|€355K|   2143|          79|        80|     78|     80|          89|       87|      62|   77|       85|       91|                84|       15|          6|        12|             8|         10|              85|           39|     84|          65|        83|     25|       81|         91|       91|           83|        88|            19|          83|     79|             42|      84|    78|     87|84.0|57.0|62.0|87.0|78.0|188545|84.0|58.0|57.0|78.0|62.0|87.0|82.0|88.0|84.0|61.0|                ST |84.0|58.0|57.0|78.0|62.0|87.0|82.0|88.0|84.0|61.0|88.0|\r\n",
        "    |  6|           De Gea| 26|https://cdn.sofif...|      Spain|https://cdn.sofif...|     90|       92|  Manchester United|https://cdn.sofif...|€64.5M|€215K|   1458|          57|        38|     60|     43|          42|       64|      17|   21|       18|       13|                19|       90|         85|        87|            86|         90|              21|           30|     67|          51|        12|     13|       40|         12|       88|           50|        31|            13|          58|     40|             21|      64|    68|     13|null|null|null|null|null|193080|null|null|null|null|null|null|null|null|null|null|                GK |null|null|null|null|null|null|null|null|null|null|null|\r\n",
        "    |  7|        E. Hazard| 26|https://cdn.sofif...|    Belgium|https://cdn.sofif...|     90|       91|            Chelsea|https://cdn.sofif...|€90.5M|€295K|   2096|          93|        54|     93|     91|          92|       87|      80|   82|       93|       83|                79|       11|         12|         6|             8|          8|              57|           41|     59|          81|        82|     25|       86|         85|       85|           86|        79|            22|          87|     79|             27|      65|    86|     79|88.0|47.0|61.0|87.0|81.0|183277|88.0|59.0|47.0|81.0|61.0|87.0|87.0|82.0|88.0|64.0|                LW |88.0|59.0|47.0|81.0|61.0|87.0|87.0|82.0|88.0|64.0|82.0|\r\n",
        "    |  8|         T. Kroos| 27|https://cdn.sofif...|    Germany|https://cdn.sofif...|     90|       90|     Real Madrid CF|https://cdn.sofif...|  €79M|€340K|   2165|          60|        60|     71|     69|          89|       85|      85|   85|       79|       76|                84|       10|         11|        13|             7|         10|              54|           85|     32|          93|        90|     63|       73|         79|       86|           90|        87|            69|          52|     77|             82|      74|    88|     82|83.0|72.0|82.0|81.0|87.0|182521|83.0|76.0|72.0|87.0|82.0|81.0|81.0|77.0|80.0|78.0|            CDM CM |83.0|76.0|72.0|87.0|82.0|81.0|81.0|77.0|80.0|78.0|77.0|\r\n",
        "    |  9|       G. Higuaín| 29|https://cdn.sofif...|  Argentina|https://cdn.sofif...|     90|       90|           Juventus|https://cdn.sofif...|  €77M|€275K|   1961|          78|        50|     75|     69|          85|       86|      68|   74|       84|       91|                62|        5|         12|         7|             5|         10|              86|           20|     79|          59|        82|     12|       70|         92|       88|           75|        88|            18|          80|     72|             22|      85|    70|     88|81.0|46.0|52.0|84.0|71.0|167664|81.0|51.0|46.0|71.0|52.0|84.0|79.0|87.0|82.0|55.0|                ST |81.0|51.0|46.0|71.0|52.0|84.0|79.0|87.0|82.0|55.0|87.0|\r\n",
        "    +---+-----------------+---+--------------------+-----------+--------------------+-------+---------+-------------------+--------------------+------+-----+-------+------------+----------+-------+-------+------------+---------+--------+-----+---------+---------+------------------+---------+-----------+----------+--------------+-----------+----------------+-------------+-------+------------+----------+-------+---------+-----------+---------+-------------+----------+--------------+------------+-------+---------------+--------+------+-------+----+----+----+----+----+------+----+----+----+----+----+----+----+----+----+----+-------------------+----+----+----+----+----+----+----+----+----+----+----+\r\n",
        "    only showing top 10 rows\r\n",
        "    \r\n",
        "    There are 17981 rows in the fifa_df DataFrame\r\n",
        "'''"
      ],
      "execution_count": null,
      "outputs": []
    },
    {
      "cell_type": "markdown",
      "metadata": {
        "id": "HJeLya4BZ8hz"
      },
      "source": [
        "Conclusion\r\n",
        "\r\n",
        "Good job! That's a Big Data. Get ready to do some exciting stuff on this Big Data."
      ]
    },
    {
      "cell_type": "markdown",
      "metadata": {
        "id": "a_XEHuCMaCns"
      },
      "source": [
        "# Part 2: SQL Queries on DataFrame\r\n",
        "\r\n",
        "The fifa_df DataFrame that we created has additional information about datatypes and names of columns associated with it. This additional information allows PySpark SQL to run SQL queries on DataFrame. SQL queries are concise and easy to run compared to DataFrame operations. But in order to apply SQL queries on DataFrame first, you need to create a temporary view of DataFrame as a table and then apply SQL queries on the created table (Running SQL Queries Programmatically).\r\n",
        "\r\n",
        "In the second part, you'll create a temporary table of fifa_df DataFrame and run SQL queries to extract the 'Age' column of players from Germany.\r\n",
        "\r\n",
        "You already have a SparkContext spark and fifa_df available in your workspace.\r\n",
        "\r\n",
        "Instructions\r\n",
        "\r\n",
        "1. Create temporary table fifa_df from fifa_df_table DataFrame.\r\n",
        "\r\n",
        "2. Construct a \"query\" to extract the \"Age\" column from Germany players.\r\n",
        "\r\n",
        "3. Apply the SQL \"query\" to the temporary view table and create a new DataFrame.\r\n",
        "\r\n",
        "4. Computes basic statistics of the created DataFrame.\r\n"
      ]
    },
    {
      "cell_type": "code",
      "metadata": {
        "id": "7jQAFFr1aTE1"
      },
      "source": [
        "# Create a temporary view of fifa_df\r\n",
        "fifa_df.createOrReplaceTempView('fifa_df_table')\r\n",
        "\r\n",
        "# Construct the \"query\"\r\n",
        "query = '''SELECT Age FROM fifa_df_table WHERE Nationality == \"Germany\"'''\r\n",
        "\r\n",
        "# Apply the SQL \"query\"\r\n",
        "fifa_df_germany_age = spark.sql(query)\r\n",
        "\r\n",
        "# Generate basic statistics\r\n",
        "fifa_df_germany_age.describe().show()\r\n",
        "\r\n",
        "'''\r\n",
        "<script.py> output:\r\n",
        "    +-------+-----------------+\r\n",
        "    |summary|              Age|\r\n",
        "    +-------+-----------------+\r\n",
        "    |  count|             1140|\r\n",
        "    |   mean|24.20263157894737|\r\n",
        "    | stddev|4.197096712293752|\r\n",
        "    |    min|               16|\r\n",
        "    |    max|               36|\r\n",
        "    +-------+-----------------+\r\n",
        "'''"
      ],
      "execution_count": null,
      "outputs": []
    },
    {
      "cell_type": "markdown",
      "metadata": {
        "id": "h4memBuZbAJG"
      },
      "source": [
        "Conclusion\r\n",
        "\r\n",
        "Excellent! Notice how consise SQL queries are compared to DataFrame operations."
      ]
    },
    {
      "cell_type": "markdown",
      "metadata": {
        "id": "U92-6e2cbCq0"
      },
      "source": [
        "# Part 3: Data visualization\r\n",
        "\r\n",
        "Data visualization is important for exploratory data analysis (EDA). PySpark DataFrame is a perfect for data visualization compared to RDDs because of its inherent structure and schema.\r\n",
        "\r\n",
        "In this third part, you'll create a histogram of the ages of all the players from Germany from the DataFrame that you created in the previous exercise. For this, you'll first convert the PySpark DataFrame into Pandas DataFrame and use matplotlib's plot() function to create a density plot of ages of all players from Germany.\r\n",
        "\r\n",
        "Remember, you already have SparkSession spark, fifa_df_table temporary table and fifa_df_germany_age DataFrame available in your workspace.\r\n",
        "\r\n",
        "Instructions\r\n",
        "\r\n",
        "1. Convert fifa_df_germany_age to fifa_df_germany_age_pandas Pandas DataFrame.\r\n",
        "\r\n",
        "2. Generate a density plot of the 'Age' column from the fifa_df_germany_age_pandas Pandas DataFrame.\r\n"
      ]
    },
    {
      "cell_type": "code",
      "metadata": {
        "id": "Y0TOzQ82cqH_"
      },
      "source": [
        "# Convert fifa_df to fifa_df_germany_age_pandas DataFrame\r\n",
        "fifa_df_germany_age_pandas = fifa_df_germany_age.toPandas()\r\n",
        "\r\n",
        "# Plot the 'Age' density of Germany Players\r\n",
        "fifa_df_germany_age_pandas.plot(kind='density')\r\n",
        "plt.show()"
      ],
      "execution_count": null,
      "outputs": []
    },
    {
      "cell_type": "markdown",
      "metadata": {
        "id": "sYWUiBHOcrG-"
      },
      "source": [
        "Conclusion\r\n",
        "\r\n",
        "Great job on successfully performing Exploratory Data Analysis on PySpark DataFrame using DataFrame operations, SQL queries and visualization!\r\n",
        "\r\n",
        "![image.png](data:image/png;base64,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)"
      ]
    }
  ]
}