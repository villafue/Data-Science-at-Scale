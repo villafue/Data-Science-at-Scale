{
  "nbformat": 4,
  "nbformat_minor": 0,
  "metadata": {
    "colab": {
      "name": "1 Introduction to Big Data analysis with Spark .ipynb",
      "provenance": [],
      "authorship_tag": "ABX9TyM/WTQhxBPPyqCay3KGbU2U",
      "include_colab_link": true
    },
    "kernelspec": {
      "name": "python3",
      "display_name": "Python 3"
    }
  },
  "cells": [
    {
      "cell_type": "markdown",
      "metadata": {
        "id": "view-in-github",
        "colab_type": "text"
      },
      "source": [
        "<a href=\"https://colab.research.google.com/github/villafue/Data-Science-at-Scale/blob/main/DataCamp/Big%20Data%20Fundamentals%20with%20PySpark/1%20Introduction%20to%20Big%20Data%20analysis%20with%20Spark/1_Introduction_to_Big_Data_analysis_with_Spark_.ipynb\" target=\"_parent\"><img src=\"https://colab.research.google.com/assets/colab-badge.svg\" alt=\"Open In Colab\"/></a>"
      ]
    },
    {
      "cell_type": "markdown",
      "metadata": {
        "id": "xN7vzj_3RN72"
      },
      "source": [
        "# Introduction to Big Data analysis with Spark\r\n",
        "\r\n",
        "This chapter introduces the exciting world of Big Data, as well as the various concepts and different frameworks for processing Big Data. You will understand why Apache Spark is considered the best framework for BigData."
      ]
    },
    {
      "cell_type": "code",
      "metadata": {
        "id": "GRe0DWFR02k7"
      },
      "source": [
        ""
      ],
      "execution_count": null,
      "outputs": []
    }
  ]
}