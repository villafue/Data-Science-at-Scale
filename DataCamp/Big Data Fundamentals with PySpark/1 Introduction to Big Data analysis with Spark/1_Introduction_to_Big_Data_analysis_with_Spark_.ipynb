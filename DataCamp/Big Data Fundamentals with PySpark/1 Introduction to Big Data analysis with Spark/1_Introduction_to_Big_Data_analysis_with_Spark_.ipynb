{
  "nbformat": 4,
  "nbformat_minor": 0,
  "metadata": {
    "colab": {
      "name": "1 Introduction to Big Data analysis with Spark .ipynb",
      "provenance": [],
      "authorship_tag": "ABX9TyMSqNnXTlFbSxEWDf3pzpOt",
      "include_colab_link": true
    },
    "kernelspec": {
      "name": "python3",
      "display_name": "Python 3"
    }
  },
  "cells": [
    {
      "cell_type": "markdown",
      "metadata": {
        "id": "view-in-github",
        "colab_type": "text"
      },
      "source": [
        "<a href=\"https://colab.research.google.com/github/villafue/Data-Science-at-Scale/blob/main/DataCamp/Big%20Data%20Fundamentals%20with%20PySpark/1%20Introduction%20to%20Big%20Data%20analysis%20with%20Spark/1_Introduction_to_Big_Data_analysis_with_Spark_.ipynb\" target=\"_parent\"><img src=\"https://colab.research.google.com/assets/colab-badge.svg\" alt=\"Open In Colab\"/></a>"
      ]
    },
    {
      "cell_type": "markdown",
      "metadata": {
        "id": "xN7vzj_3RN72"
      },
      "source": [
        "# Introduction to Big Data analysis with Spark\r\n",
        "\r\n",
        "This chapter introduces the exciting world of Big Data, as well as the various concepts and different frameworks for processing Big Data. You will understand why Apache Spark is considered the best framework for BigData."
      ]
    },
    {
      "cell_type": "markdown",
      "metadata": {
        "id": "4cFGaNKSRygO"
      },
      "source": [
        "# What is Big Data?\r\n",
        "\r\n",
        "1. Fundamentals of Big Data\r\n",
        "\r\n",
        "Welcome to the first video of Big Data fundamentals via PySpark course. My name is Upendra Devisetty and I am a Science Analyst at CyVerse. Let's get started.\r\n",
        "2. What is Big Data?\r\n",
        "\r\n",
        "What exactly is Big Data? There is no single definition of Big Data because projects, vendors, practitioners, and business professionals use it quite differently. According to Wikipedia - Big data is a term used to refer to the study and applications of data sets that are too complex for traditional data-processing software. There are three\r\n",
        "3. The 3 V's of Big Data\r\n",
        "\r\n",
        "Vs of Big data that are used to describe its characteristics. They are volume, velocity, and variety. Volume refers to the size of data. Variety refers to different sources and formats of data. Velocity is the speed at which data is generated and available for processing. Now let's take a look at some\r\n",
        "4. Big Data concepts and Terminology\r\n",
        "\r\n",
        "of the concepts and terminology of Big Data. Clustered computing is the pooling of resources of multiple machines to complete jobs. Parallel computing is a type of computation in which many calculations are carried out simultaneously. A distributed computing involves nodes or networked computers that run jobs in parallel. Batch processing refers to the breaking data into smaller pieces and running each piece on an individual machine. Real-time processing demands that information is processed and made ready immediately. There are two popular\r\n",
        "5. Big Data processing systems\r\n",
        "\r\n",
        "frameworks for Big Data processing. The first is the highly successful Hadoop/MapReduce framework. Hadoop/MapReduce framework is open source and scalable framework for batch data. The second is the most popular Apache Spark which is a parallel framework for storing and processing of Big Data across clustered computers. It is also open source and is suited for both batch and real-time data processing. In this course, you'll learn about Apache Spark. Let's talk about the main\r\n",
        "6. Features of Apache Spark framework\r\n",
        "\r\n",
        "features of Apache Spark. Spark distributes data and computation across multiple computers executing complex multi-stage applications such as machine learning. Spark runs most computations in memory and thereby provides better performance for applications such as interactive data mining. Spark helps to run an application up to 100 times faster in memory, and 10 times faster when running on disk. Spark is mainly written in Scala language but also have support for Java, Python, R, and SQL. Apache Spark is a\r\n",
        "7. Apache Spark Components\r\n",
        "\r\n",
        "powerful alternative to Hadoop MapReduce, with rich features like machine learning, real-time stream processing, and graph computations. At the center of the ecosystem is the Spark Core which contains the basic functionality of Spark. The rest of Spark’s libraries are built on top of it. First is Spark SQL, which is a library for processing structured and semi-structured data in Python, Java, and Scala. The second is MLlib, which is a library of common machine learning algorithms. The third component is GraphX, which is a collection of algorithms and tools for manipulating graphs and performing parallel graph computations. Finally, Spark Streaming is a scalable, high-throughput processing library for real-time data. In this course, you'll learn about SparkSQL and MLlib.\r\n",
        "8. Spark modes of deployment\r\n",
        "\r\n",
        "Spark can be run on two modes. The first is the local mode where you can run Spark on a single machine such as your laptop. The local mode is very convenient for testing, debugging and demonstration purposes. The second is the cluster mode where Spark is run on a cluster. The cluster mode is mainly used for production. The development workflow is that you start on local mode and transition to cluster mode. During the transition from local to cluster mode, no code change is necessary. In this course, you'll be using local mode.\r\n",
        "9. Coming up next - PySpark\r\n",
        "\r\n",
        "In the next video, you'll learn about PySpark which is the Python API for Spark. "
      ]
    },
    {
      "cell_type": "markdown",
      "metadata": {
        "id": "dlDSGlrjR6Uj"
      },
      "source": [
        "# The 3 V's of Big Data\r\n",
        "\r\n",
        "Which of the following is NOT considered as one of the three Vs of Big Data?\r\n",
        "\r\n",
        "Possible Answers\r\n",
        "\r\n",
        "1. Volume\r\n",
        " - Incorrect - Volume refers to the amount of data and is one of the characteristics of Big Data. You're looking for the characteristic that is NOT one of the three Vs of Big Data.\r\n",
        "\r\n",
        "2. Velocity\r\n",
        " - Incorrect - Velocity refers to the speed at which data is produced and available for processing and also is one of the characteristics of Big Data. You're looking for the characteristic that is NOT one of the three Vs of Big Data.\r\n",
        "\r\n",
        "3. Variation\r\n",
        " - Correct! Variation is not considered as one of the 3 V's of Big Data.\r\n",
        " \r\n",
        "4. Variety\r\n",
        " - Incorrect - Variety refers to different types and formats of data and is one of the characteristics of Big Data. You're looking for the characteristic that is NOT one of the three Vs of Big Data."
      ]
    },
    {
      "cell_type": "markdown",
      "metadata": {
        "id": "8-4mGXP0VUG9"
      },
      "source": [
        "# PySpark: Spark with Python\r\n",
        "\r\n",
        "1. PySpark: Spark with Python\r\n",
        "\r\n",
        "In the last video, you were introduced to Apache Spark which is a fast and general-purpose framework for Big data processing. Apache Spark provides high-level APIs in Scala, Java, Python, and R. In this video, you'll learn about PySpark which is Spark's version of Python.\r\n",
        "2. Overview of PySpark\r\n",
        "\r\n",
        "Apache Spark is originally written in Scala programming language. To support Python with Spark, PySpark was developed. Unlike previous versions, the newest version of PySpark provides computation power similar to Scala. APIs in PySpark are similar to Pandas & Scikit-learn python packages. Thus, the entry level barrier to PySpark is very low for beginners.\r\n",
        "3. What is Spark shell?\r\n",
        "\r\n",
        "Spark comes with interactive shells that enable ad-hoc data analysis. Spark shell is an interactive environment through which one can access Spark's functionality quickly and conveniently. Spark shell is particularly helpful for fast interactive prototyping before running the jobs on clusters. Unlike most other shells, Spark shell allow you to interact with data that is distributed on disk or in memory across many machines, and Spark takes care of automatically distributing this processing. Spark provides the shell in three programming languages: spark-shell for Scala, PySpark for Python and sparkR for R. PySpark\r\n",
        "4. PySpark shell\r\n",
        "\r\n",
        "shell is the Python-based command line tool to develop Spark's interactive applications in Python. PySpark helps data scientists interface with Spark data structures in Apache Spark and python. Similar to Scala Shell, Pyspark shell has been augmented to support connecting to a cluster. In this course, you'll use PySpark Shell. In order\r\n",
        "5. Understanding SparkContext\r\n",
        "\r\n",
        "to interact with Spark using PySpark shell, you need an entry point. SparkContext is an entry point to interact with underlying Spark functionality. Before understanding SparkContext, let’s understand what an entry point is. An entry point is where control is transferred from the Operating system to the provided program. In simpler terms, it's like a key to your house. Without the key you cannot enter the house, similarly, without an entry point, you cannot run any PySpark jobs. You can access the SparkContext in the PySpark shell as a variable named sc. Now let's take a look at some of the important attributes of SparkContext.\r\n",
        "6. Inspecting SparkContext\r\n",
        "\r\n",
        "The first is the version. This attribute shows the version of spark that you are currently running. In this example, sc-dot-version shows that the version of spark is 2-point-3-point-1. The second is the Python version. This attribute shows the version of Python that Spark is currently using. In this example, sc-dot-pythonVer shows that the spark is using Python version 3-point-6. The final attribute is the Master. Master is the URL of the cluster or “local” string to run in local mode. In this example, sc-dot-master returns local meaning the SparkContext acts as a master on a local node using all available threads on the computer where it is running. You can load your raw data\r\n",
        "7. Loading data in PySpark\r\n",
        "\r\n",
        "into PySpark using SparkContext by two different methods. The first is the SparkContext’s parallelize method on a list. For example, here is how to create parallelize collections holding the numbers 1 to 5. The second is the SparkContext’s textFile method on a file. For example, here’s a way to load a text file named \"test-dot-txt\" using SparkContext's textFile method. Now that you\r\n",
        "8. Let's practice\r\n",
        "\r\n",
        "understand PySpark, let's write your first Spark code in PySpark shell. "
      ]
    },
    {
      "cell_type": "markdown",
      "metadata": {
        "id": "SyVqDAHGW1gE"
      },
      "source": [
        "# Understanding SparkContext\r\n",
        "\r\n",
        "A SparkContext represents the entry point to Spark functionality. It's like a key to your car. PySpark automatically creates a SparkContext for you in the PySpark shell (so you don't have to create it by yourself) and is exposed via a variable sc.\r\n",
        "\r\n",
        "In this simple exercise, you'll find out the attributes of the SparkContext in your PySpark shell which you'll be using for the rest of the course.\r\n",
        "\r\n",
        "Instructions\r\n",
        "\r\n",
        "1. Print the version of SparkContext in the PySpark shell.\r\n",
        "\r\n",
        "2. Print the Python version of SparkContext in the PySpark shell.\r\n",
        "\r\n",
        "3. What is the master of SparkContext in the PySpark shell?\r\n"
      ]
    },
    {
      "cell_type": "code",
      "metadata": {
        "id": "GRe0DWFR02k7"
      },
      "source": [
        "# Print the version of SparkContext\r\n",
        "print(\"The version of Spark Context in the PySpark shell is\", sc.version)\r\n",
        "\r\n",
        "# Print the Python version of SparkContext\r\n",
        "print(\"The Python version of Spark Context in the PySpark shell is\", sc.pythonVer)\r\n",
        "\r\n",
        "# Print the master of SparkContext\r\n",
        "print(\"The master of Spark Context in the PySpark shell is\", sc.master)\r\n",
        "\r\n",
        "'''\r\n",
        "<script.py> output:\r\n",
        "    The version of Spark Context in the PySpark shell is 2.3.1\r\n",
        "    The Python version of Spark Context in the PySpark shell is 3.5\r\n",
        "    The master of Spark Context in the PySpark shell is local[*]\r\n",
        "'''"
      ],
      "execution_count": null,
      "outputs": []
    },
    {
      "cell_type": "markdown",
      "metadata": {
        "id": "oclibTdOXuKP"
      },
      "source": [
        "Conclusion\r\n",
        "\r\n",
        "You just ran your first Spark code. Congratulations!"
      ]
    },
    {
      "cell_type": "markdown",
      "metadata": {
        "id": "SQIS4zH-Xz4T"
      },
      "source": [
        "# Interactive Use of PySpark\r\n",
        "\r\n",
        "Spark comes with an interactive python shell in which PySpark is already installed in it. PySpark shell is useful for basic testing and debugging and it is quite powerful. The easiest way to demonstrate the power of PySpark’s shell is to start using it. In this example, you'll load a simple list containing numbers ranging from 1 to 100 in the PySpark shell.\r\n",
        "\r\n",
        "The most important thing to understand here is that we are not creating any SparkContext object because PySpark automatically creates the SparkContext object named sc, by default in the PySpark shell.\r\n",
        "\r\n",
        "Instructions\r\n",
        "\r\n",
        "1. Create a python list named numb containing the numbers 1 to 100.\r\n",
        "\r\n",
        "2. Load the list into Spark using Spark Context's parallelize method and assign it to a variable spark_data.\r\n"
      ]
    },
    {
      "cell_type": "code",
      "metadata": {
        "id": "xXCr8yGsYg3P"
      },
      "source": [
        "# Create a python list of numbers from 1 to 100 \r\n",
        "numb = range(1, 101)\r\n",
        "\r\n",
        "# Load the list into PySpark  \r\n",
        "spark_data = sc.parallelize(numb)"
      ],
      "execution_count": null,
      "outputs": []
    },
    {
      "cell_type": "markdown",
      "metadata": {
        "id": "7-z4fSpeYm_J"
      },
      "source": [
        "Conclusion\r\n",
        "\r\n",
        "Good job! For the rest of this course, you'll have a SparkContext called sc available in PySpark shell."
      ]
    },
    {
      "cell_type": "markdown",
      "metadata": {
        "id": "gJMyKUcqYpqb"
      },
      "source": [
        "# Loading data in PySpark shell\r\n",
        "\r\n",
        "In PySpark, we express our computation through operations on distributed collections that are automatically parallelized across the cluster. In the previous exercise, you have seen an example of loading a list as parallelized collections and in this exercise, you'll load the data from a local file in PySpark shell.\r\n",
        "\r\n",
        "Remember you already have a SparkContext sc and file_path variable (which is the path to the README.md file) already available in your workspace.\r\n",
        "\r\n",
        "Instructions\r\n",
        "\r\n",
        "1. Load a local text file README.md in PySpark shell.\r\n"
      ]
    },
    {
      "cell_type": "code",
      "metadata": {
        "id": "Jj34fSK_Y7Az"
      },
      "source": [
        "# Load a local file into PySpark shell\r\n",
        "lines = sc.textFile(file_path)"
      ],
      "execution_count": null,
      "outputs": []
    },
    {
      "cell_type": "markdown",
      "metadata": {
        "id": "hPWWQyL8Y7o3"
      },
      "source": [
        "Conclusion\r\n",
        "\r\n",
        "Wonderful! SparkContext's textFile() method is quite powerful for creating distributed collections of unstructured data which you'll see in the next chapter."
      ]
    },
    {
      "cell_type": "markdown",
      "metadata": {
        "id": "wA0COo55Y-yg"
      },
      "source": [
        "# Review of functional programming in Python\r\n",
        "\r\n",
        "1. Use of Lambda function in python - filter()\r\n",
        "\r\n",
        "Understanding PySpark becomes a lot easier if we understand functional programming principles in Python. In this video, let's review some of the Python functions such as lambda, map and filter.\r\n",
        "2. What are anonymous functions in Python?\r\n",
        "\r\n",
        "Python supports the creation of anonymous functions. That is functions that are not bound to a name at runtime, using a construct called the lambda. lambda functions are very powerful, well integrated into Python, and are often used in conjunction with typical functional concepts like map and filter functions. Like def, the lambda creates a function to be called later in the program. However, it returns the function instead of assigning it to a name. This is why lambdas are known as anonymous functions. In practice, they are used as a way to inline a function definition, or to defer execution of a code. Lambda functions can be used\r\n",
        "3. Lambda function syntax\r\n",
        "\r\n",
        "whenever function objects are required. They can have any number of arguments but only one expression and the expression is evaluated and returned. The general syntax of lambda function is shown here. Here is an example of a lambda function. In this example, lambda x: x * 2, x is the argument and x * 2 is the expression that gets evaluated and returned. This function has no name. It returns a function object which is assigned to the identifier \"double\" here. Applying the lambda function to a number such as 3 returns 6 which is the double of the original number. Let's take a look at the differences between\r\n",
        "4. Difference between def vs lambda functions\r\n",
        "\r\n",
        "def and lambda. Here is the Python code to illustrate cube of a number showing the difference between normal python function using def and anonymous function using lambda. As you can see, both def and lambda do exactly the same. The main difference is that the lambda definition does not include a return statement and it always contains an expression which is returned. Also note that we can put a lambda definition anywhere a function is expected, and we don't have to assign it to a variable at all, unlike normal python function using def. We use lambda functions when we\r\n",
        "5. Use of Lambda function in python - map()\r\n",
        "\r\n",
        "require a nameless function for a short period of time. Most of the times we use lambdas with built-in functions like map and filter. The map function is called with all the items in the list and a new list is returned which contains items returned by that function for each item. The general syntax of map function is shown here. It takes in a function and a list. Here is an example of map function with lambda to add the number 2 to all the items in a list. The result indicates that the number 2 is added to 1, 2, 3, 4 resulting in 3, 4, 5, 6. The filter\r\n",
        "6. Use of Lambda function in python - filter()\r\n",
        "\r\n",
        "function in Python takes in a function and a list as arguments. The function is called with all the items in the list and a new list is returned which contains items for which the function evaluates to True. Here is the general syntax of filter function in Python. Similar to map, it takes a function and a list as arguments. Here is an example use of filter with lambda to filter out only odd numbers from a list. As shown in the example, filtering the items list containing number 1, 2, 3, 4 resulted in 1 and 3 which are the only odd numbers for the input list. Lambda functions\r\n",
        "7. Let's practice\r\n",
        "\r\n",
        "are incredibly useful and before going deep into Pyspark, let's practice some lambda functions in PySpark shell. "
      ]
    },
    {
      "cell_type": "markdown",
      "metadata": {
        "id": "7MaWncDTaBFp"
      },
      "source": [
        "# Use of lambda() with map()\r\n",
        "\r\n",
        "The map() function in Python returns a list of the results after applying the given function to each item of a given iterable (list, tuple etc.). The general syntax of map() function is `map(fun, iter)`. We can also use lambda functions with map(). The general syntax of map() function with lambda() is` map(lambda <agument>:<expression>, iter)`. Refer to slide 5 of video 1.7 for general help of map() function with lambda().\r\n",
        "\r\n",
        "In this exercise, you'll be using lambda function inside the map() built-in function to square all numbers in the list.\r\n",
        "\r\n",
        "Instructions\r\n",
        "\r\n",
        "1. Print my_list which is available in your environment.\r\n",
        "\r\n",
        "2. Square each item in my_list using map() and lambda().\r\n",
        "\r\n",
        "3. Print the result of map function.\r\n"
      ]
    },
    {
      "cell_type": "code",
      "metadata": {
        "id": "FwW_RBXwbdrk"
      },
      "source": [
        "# Print my_list in the console\r\n",
        "print(\"Input list is\", my_list)\r\n",
        "\r\n",
        "# Square all numbers in my_list\r\n",
        "squared_list_lambda = list(map(lambda x: x **2, my_list))\r\n",
        "\r\n",
        "# Print the result of the map function\r\n",
        "print(\"The squared numbers are\", squared_list_lambda)\r\n",
        "\r\n",
        "'''\r\n",
        "<script.py> output:\r\n",
        "    Input list is [1, 2, 3, 4, 5, 6, 7, 8, 9, 10]\r\n",
        "    The squared numbers are [1, 4, 9, 16, 25, 36, 49, 64, 81, 100]\r\n",
        "'''"
      ],
      "execution_count": null,
      "outputs": []
    },
    {
      "cell_type": "markdown",
      "metadata": {
        "id": "klaUd1DAbtJy"
      },
      "source": [
        "Conclusion\r\n",
        "\r\n",
        "Good start with Python lambdas, way to go! Notice how each number got squared."
      ]
    },
    {
      "cell_type": "markdown",
      "metadata": {
        "id": "ME7s6ve9bxcH"
      },
      "source": [
        "# Use of lambda() with filter()\r\n",
        "\r\n",
        "Another function that is used extensively in Python is the filter() function. The filter() function in Python takes in a function and a list as arguments. The general syntax of the filter() function is `filter(function, list_of_input)`. Similar to the map(), filter() can be used with lambda() function. The general syntax of the filter() function with lambda() is `filter(lambda <argument>:<expression>, list)`. Refer to slide 6 of video 1.7 for general help of the filter() function with lambda().\r\n",
        "\r\n",
        "In this exercise, you'll be using lambda() function inside the filter() built-in function to find all the numbers divisible by 10 in the list.\r\n",
        "\r\n",
        "Instructions\r\n",
        "\r\n",
        "1. Print my_list2 which is available in your environment.\r\n",
        "\r\n",
        "2. Filter the numbers divisible by 10 from my_list2 using filter() and lambda().\r\n",
        "\r\n",
        "3. Print the numbers divisible by 10 from my_list2.\r\n",
        "\r\n",
        "Hint\r\n",
        "\r\n",
        "1. my_list2 is the name of the input available in your environment.\r\n",
        "\r\n",
        "2. `lambda x: x%10 == 0` keeps only numbers that are divisible by 10.\r\n",
        "\r\n",
        "3. filtered_list holds the value of result of map function.\r\n",
        "\r\n"
      ]
    },
    {
      "cell_type": "code",
      "metadata": {
        "id": "bVCbbjufdzpO"
      },
      "source": [
        "# Print my_list2 in the console\r\n",
        "print(\"Input list is:\", my_list2)\r\n",
        "\r\n",
        "# Filter numbers divisible by 10\r\n",
        "filtered_list = list(filter(lambda x: (x%10 == 0), my_list2))\r\n",
        "\r\n",
        "# Print the numbers divisible by 10\r\n",
        "print(\"Numbers divisible by 10 are:\", filtered_list)\r\n",
        "\r\n",
        "'''\r\n",
        "<script.py> output:\r\n",
        "    Input list is: [10, 21, 31, 40, 51, 60, 72, 80, 93, 101]\r\n",
        "    Numbers divisible by 10 are: [10, 40, 60, 80]\r\n",
        "'''"
      ],
      "execution_count": null,
      "outputs": []
    },
    {
      "cell_type": "markdown",
      "metadata": {
        "id": "-d9bDpDpd3tx"
      },
      "source": [
        "Conclusion\r\n",
        "\r\n",
        "Lambda functions are indeed simple to use! You'll be using lambda functions with PySpark in the next chapter."
      ]
    }
  ]
}