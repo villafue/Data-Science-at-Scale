{
  "nbformat": 4,
  "nbformat_minor": 0,
  "metadata": {
    "colab": {
      "name": " 1 Getting to know PySpark .ipynb",
      "provenance": [],
      "authorship_tag": "ABX9TyNT6YdNAD6sUaYyYUGlxGNS",
      "include_colab_link": true
    },
    "kernelspec": {
      "name": "python3",
      "display_name": "Python 3"
    }
  },
  "cells": [
    {
      "cell_type": "markdown",
      "metadata": {
        "id": "view-in-github",
        "colab_type": "text"
      },
      "source": [
        "<a href=\"https://colab.research.google.com/github/villafue/Data-Science-at-Scale/blob/main/DataCamp/Introduction%20to%20PySpark/1%20Getting%20to%20know%20PySpark/1_Getting_to_know_PySpark_.ipynb\" target=\"_parent\"><img src=\"https://colab.research.google.com/assets/colab-badge.svg\" alt=\"Open In Colab\"/></a>"
      ]
    },
    {
      "cell_type": "markdown",
      "metadata": {
        "id": "y9RQR4GLQkk4"
      },
      "source": [
        "# Getting to know PySpark \r\n",
        "\r\n",
        "In this chapter, you'll learn how Spark manages data and how can you read and write tables from Python."
      ]
    },
    {
      "cell_type": "code",
      "metadata": {
        "id": "BRn3AjW-QiYA"
      },
      "source": [
        ""
      ],
      "execution_count": null,
      "outputs": []
    }
  ]
}