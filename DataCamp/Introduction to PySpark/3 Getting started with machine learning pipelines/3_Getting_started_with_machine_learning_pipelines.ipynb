{
  "nbformat": 4,
  "nbformat_minor": 0,
  "metadata": {
    "colab": {
      "name": "3 Getting started with machine learning pipelines.ipynb",
      "provenance": [],
      "authorship_tag": "ABX9TyMY6wf+sWYylx4pwaUs8QSv",
      "include_colab_link": true
    },
    "kernelspec": {
      "name": "python3",
      "display_name": "Python 3"
    }
  },
  "cells": [
    {
      "cell_type": "markdown",
      "metadata": {
        "id": "view-in-github",
        "colab_type": "text"
      },
      "source": [
        "<a href=\"https://colab.research.google.com/github/villafue/Data-Science-at-Scale/blob/main/DataCamp/Introduction%20to%20PySpark/3%20Getting%20started%20with%20machine%20learning%20pipelines/3_Getting_started_with_machine_learning_pipelines.ipynb\" target=\"_parent\"><img src=\"https://colab.research.google.com/assets/colab-badge.svg\" alt=\"Open In Colab\"/></a>"
      ]
    },
    {
      "cell_type": "markdown",
      "metadata": {
        "id": "_ndvjCnNp9vt"
      },
      "source": [
        "# Getting started with machine learning pipelines\r\n",
        "\r\n",
        "PySpark has built-in, cutting-edge machine learning routines, along with utilities to create full machine learning pipelines. You'll learn about them in this chapter."
      ]
    },
    {
      "cell_type": "markdown",
      "metadata": {
        "id": "4xRPLCMyqYsm"
      },
      "source": [
        "# Machine Learning Pipelines\r\n",
        "\r\n",
        "In the next two chapters you'll step through every stage of the machine learning pipeline, from data intake to model evaluation. Let's get to it!\r\n",
        "\r\n",
        "At the core of the pyspark.ml module are the Transformer and Estimator classes. Almost every other class in the module behaves similarly to these two basic classes.\r\n",
        "\r\n",
        "Transformer classes have a .transform() method that takes a DataFrame and returns a new DataFrame; usually the original one with a new column appended. For example, you might use the class Bucketizer to create discrete bins from a continuous feature or the class PCA to reduce the dimensionality of your dataset using principal component analysis.\r\n",
        "\r\n",
        "Estimator classes all implement a .fit() method. These methods also take a DataFrame, but instead of returning another DataFrame they return a model object. This can be something like a StringIndexerModel for including categorical data saved as strings in your models, or a RandomForestModel that uses the random forest algorithm for classification or regression.\r\n",
        "\r\n",
        "Which of the following is not true about machine learning in Spark?\r\n",
        "\r\n",
        "Possible Answers\r\n",
        "\r\n",
        "1. Spark's algorithms give better results than other algorithms.\r\n",
        " - That's right! Spark is just a platform that implements the same algorithms that can be found elsewhere.\r\n",
        " \r\n",
        "2. Working in Spark allows you to create reproducible machine learning pipelines.\r\n",
        " - Incorrect - One of the major advantages of Spark is the ability to create pipelines.\r\n",
        "\r\n",
        "3. Machine learning pipelines in Spark are made up of Transformers and Estimators.\r\n",
        " - Incorrect - Remember, these are the two basic kinds of data manipulators in pyspark.ml.\r\n",
        "\r\n",
        "4. PySpark uses the pyspark.ml submodule to interface with Spark's machine learning routines.\r\n",
        " - Incorrect - That's the submodule where all of the classes used for machine learning live."
      ]
    },
    {
      "cell_type": "markdown",
      "metadata": {
        "id": "OJbDIotGraK9"
      },
      "source": [
        "# Join the DataFrames\r\n",
        "\r\n",
        "In the next two chapters you'll be working to build a model that predicts whether or not a flight will be delayed based on the flights data we've been working with. This model will also include information about the plane that flew the route, so the first step is to join the two tables: flights and planes!\r\n",
        "\r\n",
        "Instructions\r\n",
        "\r\n",
        "1. First, rename the year column of planes to plane_year to avoid duplicate column names.\r\n",
        "\r\n",
        "2. Create a new DataFrame called model_data by joining the flights table with planes using the tailnum column as the key.\r\n"
      ]
    },
    {
      "cell_type": "code",
      "metadata": {
        "id": "_WvQrfYBfdYZ"
      },
      "source": [
        "print(planes.show())\r\n",
        "+-------+----+--------------------+----------------+--------+-------+-----+-----+---------+\r\n",
        "|tailnum|year|                type|    manufacturer|   model|engines|seats|speed|   engine|\r\n",
        "+-------+----+--------------------+----------------+--------+-------+-----+-----+---------+\r\n",
        "| N102UW|1998|Fixed wing multi ...|AIRBUS INDUSTRIE|A320-214|      2|  182|   NA|Turbo-fan|\r\n",
        "| N103US|1999|Fixed wing multi ...|AIRBUS INDUSTRIE|A320-214|      2|  182|   NA|Turbo-fan|\r\n",
        "| N104UW|1999|Fixed wing multi ...|AIRBUS INDUSTRIE|A320-214|      2|  182|   NA|Turbo-fan|\r\n",
        "| N105UW|1999|Fixed wing multi ...|AIRBUS INDUSTRIE|A320-214|      2|  182|   NA|Turbo-fan|\r\n",
        "| N107US|1999|Fixed wing multi ...|AIRBUS INDUSTRIE|A320-214|      2|  182|   NA|Turbo-fan|\r\n",
        "| N108UW|1999|Fixed wing multi ...|AIRBUS INDUSTRIE|A320-214|      2|  182|   NA|Turbo-fan|\r\n",
        "| N109UW|1999|Fixed wing multi ...|AIRBUS INDUSTRIE|A320-214|      2|  182|   NA|Turbo-fan|\r\n",
        "| N110UW|1999|Fixed wing multi ...|AIRBUS INDUSTRIE|A320-214|      2|  182|   NA|Turbo-fan|\r\n",
        "| N111US|1999|Fixed wing multi ...|AIRBUS INDUSTRIE|A320-214|      2|  182|   NA|Turbo-fan|\r\n",
        "| N11206|2000|Fixed wing multi ...|          BOEING| 737-824|      2|  149|   NA|Turbo-fan|\r\n",
        "| N112US|1999|Fixed wing multi ...|AIRBUS INDUSTRIE|A320-214|      2|  182|   NA|Turbo-fan|\r\n",
        "| N113UW|1999|Fixed wing multi ...|AIRBUS INDUSTRIE|A320-214|      2|  182|   NA|Turbo-fan|\r\n",
        "| N114UW|1999|Fixed wing multi ...|AIRBUS INDUSTRIE|A320-214|      2|  182|   NA|Turbo-fan|\r\n",
        "| N117UW|2000|Fixed wing multi ...|AIRBUS INDUSTRIE|A320-214|      2|  182|   NA|Turbo-fan|\r\n",
        "| N118US|2000|Fixed wing multi ...|AIRBUS INDUSTRIE|A320-214|      2|  182|   NA|Turbo-fan|\r\n",
        "| N119US|2000|Fixed wing multi ...|AIRBUS INDUSTRIE|A320-214|      2|  182|   NA|Turbo-fan|\r\n",
        "| N1200K|1998|Fixed wing multi ...|          BOEING| 767-332|      2|  330|   NA|Turbo-fan|\r\n",
        "| N1201P|1998|Fixed wing multi ...|          BOEING| 767-332|      2|  330|   NA|Turbo-fan|\r\n",
        "| N12114|1995|Fixed wing multi ...|          BOEING| 757-224|      2|  178|   NA|Turbo-jet|\r\n",
        "| N121DE|1987|Fixed wing multi ...|          BOEING| 767-332|      2|  330|   NA|Turbo-fan|\r\n",
        "+-------+----+--------------------+----------------+--------+-------+-----+-----+---------+\r\n",
        "only showing top 20 rows"
      ],
      "execution_count": null,
      "outputs": []
    },
    {
      "cell_type": "code",
      "metadata": {
        "id": "S8kKd6ZqsBUl"
      },
      "source": [
        "print(flights.show())\r\n",
        "+----+-----+---+--------+---------+--------+---------+-------+-------+------+------+----+--------+--------+----+------+\r\n",
        "|year|month|day|dep_time|dep_delay|arr_time|arr_delay|carrier|tailnum|flight|origin|dest|air_time|distance|hour|minute|\r\n",
        "+----+-----+---+--------+---------+--------+---------+-------+-------+------+------+----+--------+--------+----+------+\r\n",
        "|2014|   12|  8|     658|       -7|     935|       -5|     VX| N846VA|  1780|   SEA| LAX|     132|     954|   6|    58|\r\n",
        "|2014|    1| 22|    1040|        5|    1505|        5|     AS| N559AS|   851|   SEA| HNL|     360|    2677|  10|    40|\r\n",
        "|2014|    3|  9|    1443|       -2|    1652|        2|     VX| N847VA|   755|   SEA| SFO|     111|     679|  14|    43|\r\n",
        "|2014|    4|  9|    1705|       45|    1839|       34|     WN| N360SW|   344|   PDX| SJC|      83|     569|  17|     5|\r\n",
        "|2014|    3|  9|     754|       -1|    1015|        1|     AS| N612AS|   522|   SEA| BUR|     127|     937|   7|    54|\r\n",
        "|2014|    1| 15|    1037|        7|    1352|        2|     WN| N646SW|    48|   PDX| DEN|     121|     991|  10|    37|\r\n",
        "|2014|    7|  2|     847|       42|    1041|       51|     WN| N422WN|  1520|   PDX| OAK|      90|     543|   8|    47|\r\n",
        "|2014|    5| 12|    1655|       -5|    1842|      -18|     VX| N361VA|   755|   SEA| SFO|      98|     679|  16|    55|\r\n",
        "|2014|    4| 19|    1236|       -4|    1508|       -7|     AS| N309AS|   490|   SEA| SAN|     135|    1050|  12|    36|\r\n",
        "|2014|   11| 19|    1812|       -3|    2352|       -4|     AS| N564AS|    26|   SEA| ORD|     198|    1721|  18|    12|\r\n",
        "|2014|   11|  8|    1653|       -2|    1924|       -1|     AS| N323AS|   448|   SEA| LAX|     130|     954|  16|    53|\r\n",
        "|2014|    8|  3|    1120|        0|    1415|        2|     AS| N305AS|   656|   SEA| PHX|     154|    1107|  11|    20|\r\n",
        "|2014|   10| 30|     811|       21|    1038|       29|     AS| N433AS|   608|   SEA| LAS|     127|     867|   8|    11|\r\n",
        "|2014|   11| 12|    2346|       -4|     217|      -28|     AS| N765AS|   121|   SEA| ANC|     183|    1448|  23|    46|\r\n",
        "|2014|   10| 31|    1314|       89|    1544|      111|     AS| N713AS|   306|   SEA| SFO|     129|     679|  13|    14|\r\n",
        "|2014|    1| 29|    2009|        3|    2159|        9|     UA| N27205|  1458|   PDX| SFO|      90|     550|  20|     9|\r\n",
        "|2014|   12| 17|    2015|       50|    2150|       41|     AS| N626AS|   368|   SEA| SMF|      76|     605|  20|    15|\r\n",
        "|2014|    8| 11|    1017|       -3|    1613|       -7|     WN| N8634A|   827|   SEA| MDW|     216|    1733|  10|    17|\r\n",
        "|2014|    1| 13|    2156|       -9|     607|      -15|     AS| N597AS|    24|   SEA| BOS|     290|    2496|  21|    56|\r\n",
        "|2014|    6|  5|    1733|      -12|    1945|      -10|     OO| N215AG|  3488|   PDX| BUR|     111|     817|  17|    33|\r\n",
        "+----+-----+---+--------+---------+--------+---------+-------+-------+------+------+----+--------+--------+----+------+\r\n",
        "only showing top 20 rows"
      ],
      "execution_count": null,
      "outputs": []
    },
    {
      "cell_type": "code",
      "metadata": {
        "id": "uOKCtmjvsUEn"
      },
      "source": [
        "print(flights.show())\r\n",
        "\r\n",
        "# Rename year column\r\n",
        "planes = planes.withColumnRenamed(\"year\", \"plane_year\")\r\n",
        "\r\n",
        "# Join the DataFrames\r\n",
        "model_data = flights.join(planes, on=\"tailnum\", how=\"leftouter\")"
      ],
      "execution_count": null,
      "outputs": []
    },
    {
      "cell_type": "markdown",
      "metadata": {
        "id": "swpXQIkzsWKX"
      },
      "source": [
        "# Data types\r\n",
        "\r\n",
        "Good work! Before you get started modeling, it's important to know that Spark only handles numeric data. That means all of the columns in your DataFrame must be either integers or decimals (called 'doubles' in Spark).\r\n",
        "\r\n",
        "When we imported our data, we let Spark guess what kind of information each column held. Unfortunately, Spark doesn't always guess right and you can see that some of the columns in our DataFrame are strings containing numbers as opposed to actual numeric values.\r\n",
        "\r\n",
        "To remedy this, you can use the .cast() method in combination with the .withColumn() method. It's important to note that .cast() works on columns, while .withColumn() works on DataFrames.\r\n",
        "\r\n",
        "The only argument you need to pass to .cast() is the kind of value you want to create, in string form. For example, to create integers, you'll pass the argument \"integer\" and for decimal numbers you'll use \"double\".\r\n",
        "\r\n",
        "You can put this call to .cast() inside a call to .withColumn() to overwrite the already existing column, just like you did in the previous chapter!\r\n",
        "\r\n",
        "What kind of data does Spark need for modeling?\r\n",
        "\r\n",
        "Possible Answers\r\n",
        "\r\n",
        "1. Doubles\r\n",
        " - Incorrect - Spark can use doubles, but those aren't the only kind of value it can make sense of.\r\n",
        "\r\n",
        "2. Integers\r\n",
        " - Incorrect - Spark can use integers, but those aren't the only kind of value it can make sense of.\r\n",
        "\r\n",
        "3. Decimals\r\n",
        " - Incorrect - A decimal is like a double.\",\r\n",
        "\r\n",
        "4. Numeric\r\n",
        " - Great job! Spark needs numeric values (doubles or integers) to do machine learning.\r\n",
        " \r\n",
        "5. Strings\r\n",
        " - Incorrect - Spark can't directly model strings."
      ]
    },
    {
      "cell_type": "markdown",
      "metadata": {
        "id": "zkpXsaDytgWl"
      },
      "source": [
        "# String to integer\r\n",
        "\r\n",
        "Now you'll use the .cast() method you learned in the previous exercise to convert all the appropriate columns from your DataFrame model_data to integers!\r\n",
        "\r\n",
        "To convert the type of a column using the .cast() method, you can write code like this:\r\n",
        "\r\n",
        "`dataframe = dataframe.withColumn(\"col\", dataframe.col.cast(\"new_type\"))`\r\n",
        "\r\n",
        "Instructions\r\n",
        "\r\n",
        "1. Use the method .withColumn() to .cast() the following columns to type \"integer\". Access the columns using the df.col notation:\r\n",
        "\r\n",
        " - model_data.arr_delay\r\n",
        "\r\n",
        " - model_data.air_time\r\n",
        "\r\n",
        " - model_data.month\r\n",
        "\r\n",
        " - model_data.plane_year\r\n"
      ]
    },
    {
      "cell_type": "code",
      "metadata": {
        "id": "y7Iq31IquO8W"
      },
      "source": [
        "# Cast the columns to integers\r\n",
        "model_data = model_data.withColumn(\"arr_delay\", model_data.arr_delay.cast(\"integer\"))\r\n",
        "model_data = model_data.withColumn(\"air_time\", model_data.air_time.cast(\"integer\"))\r\n",
        "model_data = model_data.withColumn(\"month\", model_data.month.cast(\"integer\"))\r\n",
        "model_data = model_data.withColumn(\"plane_year\", model_data.plane_year.cast(\"integer\"))"
      ],
      "execution_count": null,
      "outputs": []
    },
    {
      "cell_type": "markdown",
      "metadata": {
        "id": "f5HcpVGGuUo_"
      },
      "source": [
        "# Create a new column\r\n",
        "\r\n",
        "In the last exercise, you converted the column plane_year to an integer. This column holds the year each plane was manufactured. However, your model will use the planes' age, which is slightly different from the year it was made!\r\n",
        "\r\n",
        "Instructions\r\n",
        "\r\n",
        "1. Create the column plane_age using the .withColumn() method and subtracting the year of manufacture (column plane_year) from the year (column year) of the flight.\r\n"
      ]
    },
    {
      "cell_type": "code",
      "metadata": {
        "id": "pHxqBbZUunyf"
      },
      "source": [
        "In [1]:\r\n",
        "model_data.show()\r\n",
        "+-------+----+-----+---+--------+---------+--------+---------+-------+------+------+----+--------+--------+----+------+----------+--------------------+--------------+-----------+-------+-----+-----+---------+\r\n",
        "|tailnum|year|month|day|dep_time|dep_delay|arr_time|arr_delay|carrier|flight|origin|dest|air_time|distance|hour|minute|plane_year|                type|  manufacturer|      model|engines|seats|speed|   engine|\r\n",
        "+-------+----+-----+---+--------+---------+--------+---------+-------+------+------+----+--------+--------+----+------+----------+--------------------+--------------+-----------+-------+-----+-----+---------+\r\n",
        "| N846VA|2014|   12|  8|     658|       -7|     935|       -5|     VX|  1780|   SEA| LAX|     132|     954|   6|    58|      2011|Fixed wing multi ...|        AIRBUS|   A320-214|      2|  182|   NA|Turbo-fan|\r\n",
        "| N559AS|2014|    1| 22|    1040|        5|    1505|        5|     AS|   851|   SEA| HNL|     360|    2677|  10|    40|      2006|Fixed wing multi ...|        BOEING|    737-890|      2|  149|   NA|Turbo-fan|\r\n",
        "| N847VA|2014|    3|  9|    1443|       -2|    1652|        2|     VX|   755|   SEA| SFO|     111|     679|  14|    43|      2011|Fixed wing multi ...|        AIRBUS|   A320-214|      2|  182|   NA|Turbo-fan|\r\n",
        "| N360SW|2014|    4|  9|    1705|       45|    1839|       34|     WN|   344|   PDX| SJC|      83|     569|  17|     5|      1992|Fixed wing multi ...|        BOEING|    737-3H4|      2|  149|   NA|Turbo-fan|\r\n",
        "| N612AS|2014|    3|  9|     754|       -1|    1015|        1|     AS|   522|   SEA| BUR|     127|     937|   7|    54|      1999|Fixed wing multi ...|        BOEING|    737-790|      2|  151|   NA|Turbo-jet|\r\n",
        "| N646SW|2014|    1| 15|    1037|        7|    1352|        2|     WN|    48|   PDX| DEN|     121|     991|  10|    37|      1997|Fixed wing multi ...|        BOEING|    737-3H4|      2|  149|   NA|Turbo-fan|\r\n",
        "| N422WN|2014|    7|  2|     847|       42|    1041|       51|     WN|  1520|   PDX| OAK|      90|     543|   8|    47|      2002|Fixed wing multi ...|        BOEING|    737-7H4|      2|  140|   NA|Turbo-fan|\r\n",
        "| N361VA|2014|    5| 12|    1655|       -5|    1842|      -18|     VX|   755|   SEA| SFO|      98|     679|  16|    55|      2013|Fixed wing multi ...|        AIRBUS|   A320-214|      2|  182|   NA|Turbo-fan|\r\n",
        "| N309AS|2014|    4| 19|    1236|       -4|    1508|       -7|     AS|   490|   SEA| SAN|     135|    1050|  12|    36|      2001|Fixed wing multi ...|        BOEING|    737-990|      2|  149|   NA|Turbo-jet|\r\n",
        "| N564AS|2014|   11| 19|    1812|       -3|    2352|       -4|     AS|    26|   SEA| ORD|     198|    1721|  18|    12|      2006|Fixed wing multi ...|        BOEING|    737-890|      2|  149|   NA|Turbo-fan|\r\n",
        "| N323AS|2014|   11|  8|    1653|       -2|    1924|       -1|     AS|   448|   SEA| LAX|     130|     954|  16|    53|      2004|Fixed wing multi ...|        BOEING|    737-990|      2|  149|   NA|Turbo-jet|\r\n",
        "| N305AS|2014|    8|  3|    1120|        0|    1415|        2|     AS|   656|   SEA| PHX|     154|    1107|  11|    20|      2001|Fixed wing multi ...|        BOEING|    737-990|      2|  149|   NA|Turbo-jet|\r\n",
        "| N433AS|2014|   10| 30|     811|       21|    1038|       29|     AS|   608|   SEA| LAS|     127|     867|   8|    11|      2013|Fixed wing multi ...|        BOEING|  737-990ER|      2|  222|   NA|Turbo-fan|\r\n",
        "| N765AS|2014|   11| 12|    2346|       -4|     217|      -28|     AS|   121|   SEA| ANC|     183|    1448|  23|    46|      1992|Fixed wing multi ...|        BOEING|    737-4Q8|      2|  149|   NA|Turbo-fan|\r\n",
        "| N713AS|2014|   10| 31|    1314|       89|    1544|      111|     AS|   306|   SEA| SFO|     129|     679|  13|    14|      1999|Fixed wing multi ...|        BOEING|    737-490|      2|  149|   NA|Turbo-jet|\r\n",
        "| N27205|2014|    1| 29|    2009|        3|    2159|        9|     UA|  1458|   PDX| SFO|      90|     550|  20|     9|      2000|Fixed wing multi ...|        BOEING|    737-824|      2|  149|   NA|Turbo-fan|\r\n",
        "| N626AS|2014|   12| 17|    2015|       50|    2150|       41|     AS|   368|   SEA| SMF|      76|     605|  20|    15|      2001|Fixed wing multi ...|        BOEING|    737-790|      2|  151|   NA|Turbo-jet|\r\n",
        "| N8634A|2014|    8| 11|    1017|       -3|    1613|       -7|     WN|   827|   SEA| MDW|     216|    1733|  10|    17|      2014|Fixed wing multi ...|        BOEING|    737-8H4|      2|  140|   NA|Turbo-fan|\r\n",
        "| N597AS|2014|    1| 13|    2156|       -9|     607|      -15|     AS|    24|   SEA| BOS|     290|    2496|  21|    56|      2008|Fixed wing multi ...|        BOEING|    737-890|      2|  149|   NA|Turbo-fan|\r\n",
        "| N215AG|2014|    6|  5|    1733|      -12|    1945|      -10|     OO|  3488|   PDX| BUR|     111|     817|  17|    33|      2001|Fixed wing multi ...|BOMBARDIER INC|CL-600-2C10|      2|   80|   NA|Turbo-fan|\r\n",
        "+-------+----+-----+---+--------+---------+--------+---------+-------+------+------+----+--------+--------+----+------+----------+--------------------+--------------+-----------+-------+-----+-----+---------+\r\n",
        "only showing top 20 rows\r\n"
      ],
      "execution_count": null,
      "outputs": []
    },
    {
      "cell_type": "code",
      "metadata": {
        "id": "XPvFpJezu7U2"
      },
      "source": [
        "# Create the column plane_age\r\n",
        "model_data = model_data.withColumn(\"plane_age\", model_data.year - model_data.plane_year)"
      ],
      "execution_count": null,
      "outputs": []
    },
    {
      "cell_type": "markdown",
      "metadata": {
        "id": "MAkDXDnRu8z5"
      },
      "source": [
        "Conclusion\r\n",
        "\r\n",
        "Great work! Now you have one more variable to include in your model."
      ]
    },
    {
      "cell_type": "markdown",
      "metadata": {
        "id": "gvvK-VTFu-_m"
      },
      "source": [
        "# Making a Boolean\r\n",
        "\r\n",
        "Consider that you're modeling a yes or no question: is the flight late? However, your data contains the arrival delay in minutes for each flight. Thus, you'll need to create a boolean column which indicates whether the flight was late or not!\r\n",
        "\r\n",
        "Instructions\r\n",
        "\r\n",
        "1. Use the .withColumn() method to create the column is_late. This column is equal to model_data.arr_delay > 0.\r\n",
        "\r\n",
        "2. Convert this column to an integer column so that you can use it in your model and name it label (this is the default name for the response variable in Spark's machine learning routines).\r\n",
        "\r\n",
        "3. Filter out missing values (this has been done for you).\r\n"
      ]
    },
    {
      "cell_type": "code",
      "metadata": {
        "id": "y3KflYCovj5Z"
      },
      "source": [
        "In [1]:\r\n",
        "model_data.show()\r\n",
        "+-------+----+-----+---+--------+---------+--------+---------+-------+------+------+----+--------+--------+----+------+----------+--------------------+--------------+-----------+-------+-----+-----+---------+\r\n",
        "|tailnum|year|month|day|dep_time|dep_delay|arr_time|arr_delay|carrier|flight|origin|dest|air_time|distance|hour|minute|plane_year|                type|  manufacturer|      model|engines|seats|speed|   engine|\r\n",
        "+-------+----+-----+---+--------+---------+--------+---------+-------+------+------+----+--------+--------+----+------+----------+--------------------+--------------+-----------+-------+-----+-----+---------+\r\n",
        "| N846VA|2014|   12|  8|     658|       -7|     935|       -5|     VX|  1780|   SEA| LAX|     132|     954|   6|    58|      2011|Fixed wing multi ...|        AIRBUS|   A320-214|      2|  182|   NA|Turbo-fan|\r\n",
        "| N559AS|2014|    1| 22|    1040|        5|    1505|        5|     AS|   851|   SEA| HNL|     360|    2677|  10|    40|      2006|Fixed wing multi ...|        BOEING|    737-890|      2|  149|   NA|Turbo-fan|\r\n",
        "| N847VA|2014|    3|  9|    1443|       -2|    1652|        2|     VX|   755|   SEA| SFO|     111|     679|  14|    43|      2011|Fixed wing multi ...|        AIRBUS|   A320-214|      2|  182|   NA|Turbo-fan|\r\n",
        "| N360SW|2014|    4|  9|    1705|       45|    1839|       34|     WN|   344|   PDX| SJC|      83|     569|  17|     5|      1992|Fixed wing multi ...|        BOEING|    737-3H4|      2|  149|   NA|Turbo-fan|\r\n",
        "| N612AS|2014|    3|  9|     754|       -1|    1015|        1|     AS|   522|   SEA| BUR|     127|     937|   7|    54|      1999|Fixed wing multi ...|        BOEING|    737-790|      2|  151|   NA|Turbo-jet|\r\n",
        "| N646SW|2014|    1| 15|    1037|        7|    1352|        2|     WN|    48|   PDX| DEN|     121|     991|  10|    37|      1997|Fixed wing multi ...|        BOEING|    737-3H4|      2|  149|   NA|Turbo-fan|\r\n",
        "| N422WN|2014|    7|  2|     847|       42|    1041|       51|     WN|  1520|   PDX| OAK|      90|     543|   8|    47|      2002|Fixed wing multi ...|        BOEING|    737-7H4|      2|  140|   NA|Turbo-fan|\r\n",
        "| N361VA|2014|    5| 12|    1655|       -5|    1842|      -18|     VX|   755|   SEA| SFO|      98|     679|  16|    55|      2013|Fixed wing multi ...|        AIRBUS|   A320-214|      2|  182|   NA|Turbo-fan|\r\n",
        "| N309AS|2014|    4| 19|    1236|       -4|    1508|       -7|     AS|   490|   SEA| SAN|     135|    1050|  12|    36|      2001|Fixed wing multi ...|        BOEING|    737-990|      2|  149|   NA|Turbo-jet|\r\n",
        "| N564AS|2014|   11| 19|    1812|       -3|    2352|       -4|     AS|    26|   SEA| ORD|     198|    1721|  18|    12|      2006|Fixed wing multi ...|        BOEING|    737-890|      2|  149|   NA|Turbo-fan|\r\n",
        "| N323AS|2014|   11|  8|    1653|       -2|    1924|       -1|     AS|   448|   SEA| LAX|     130|     954|  16|    53|      2004|Fixed wing multi ...|        BOEING|    737-990|      2|  149|   NA|Turbo-jet|\r\n",
        "| N305AS|2014|    8|  3|    1120|        0|    1415|        2|     AS|   656|   SEA| PHX|     154|    1107|  11|    20|      2001|Fixed wing multi ...|        BOEING|    737-990|      2|  149|   NA|Turbo-jet|\r\n",
        "| N433AS|2014|   10| 30|     811|       21|    1038|       29|     AS|   608|   SEA| LAS|     127|     867|   8|    11|      2013|Fixed wing multi ...|        BOEING|  737-990ER|      2|  222|   NA|Turbo-fan|\r\n",
        "| N765AS|2014|   11| 12|    2346|       -4|     217|      -28|     AS|   121|   SEA| ANC|     183|    1448|  23|    46|      1992|Fixed wing multi ...|        BOEING|    737-4Q8|      2|  149|   NA|Turbo-fan|\r\n",
        "| N713AS|2014|   10| 31|    1314|       89|    1544|      111|     AS|   306|   SEA| SFO|     129|     679|  13|    14|      1999|Fixed wing multi ...|        BOEING|    737-490|      2|  149|   NA|Turbo-jet|\r\n",
        "| N27205|2014|    1| 29|    2009|        3|    2159|        9|     UA|  1458|   PDX| SFO|      90|     550|  20|     9|      2000|Fixed wing multi ...|        BOEING|    737-824|      2|  149|   NA|Turbo-fan|\r\n",
        "| N626AS|2014|   12| 17|    2015|       50|    2150|       41|     AS|   368|   SEA| SMF|      76|     605|  20|    15|      2001|Fixed wing multi ...|        BOEING|    737-790|      2|  151|   NA|Turbo-jet|\r\n",
        "| N8634A|2014|    8| 11|    1017|       -3|    1613|       -7|     WN|   827|   SEA| MDW|     216|    1733|  10|    17|      2014|Fixed wing multi ...|        BOEING|    737-8H4|      2|  140|   NA|Turbo-fan|\r\n",
        "| N597AS|2014|    1| 13|    2156|       -9|     607|      -15|     AS|    24|   SEA| BOS|     290|    2496|  21|    56|      2008|Fixed wing multi ...|        BOEING|    737-890|      2|  149|   NA|Turbo-fan|\r\n",
        "| N215AG|2014|    6|  5|    1733|      -12|    1945|      -10|     OO|  3488|   PDX| BUR|     111|     817|  17|    33|      2001|Fixed wing multi ...|BOMBARDIER INC|CL-600-2C10|      2|   80|   NA|Turbo-fan|\r\n",
        "+-------+----+-----+---+--------+---------+--------+---------+-------+------+------+----+--------+--------+----+------+----------+--------------------+--------------+-----------+-------+-----+-----+---------+\r\n",
        "only showing top 20 rows\r\n"
      ],
      "execution_count": null,
      "outputs": []
    },
    {
      "cell_type": "code",
      "metadata": {
        "id": "Eal8VxLPvf0d"
      },
      "source": [
        "# Create is_late\r\n",
        "model_data = model_data.withColumn(\"is_late\", model_data.arr_delay > 0)\r\n",
        "\r\n",
        "# Convert to an integer\r\n",
        "model_data = model_data.withColumn(\"label\", model_data.is_late.cast(\"integer\"))\r\n",
        "\r\n",
        "# Remove missing values\r\n",
        "model_data = model_data.filter(\"arr_delay is not NULL and dep_delay is not NULL and air_time is not NULL and plane_year is not NULL\")"
      ],
      "execution_count": null,
      "outputs": []
    },
    {
      "cell_type": "markdown",
      "metadata": {
        "id": "nmE1Ss1gv-YC"
      },
      "source": [
        "Conclusion\r\n",
        "\r\n",
        "Awesome! Now you've defined the column that you're going to use as the outcome in your model."
      ]
    },
    {
      "cell_type": "markdown",
      "metadata": {
        "id": "8I6y_qhMwNHh"
      },
      "source": [
        "# Strings and factors\r\n",
        "\r\n",
        "As you know, Spark requires numeric data for modeling. So far this hasn't been an issue; even boolean columns can easily be converted to integers without any trouble. But you'll also be using the airline and the plane's destination as features in your model. These are coded as strings and there isn't any obvious way to convert them to a numeric data type.\r\n",
        "\r\n",
        "Fortunately, PySpark has functions for handling this built into the pyspark.ml.features submodule. You can create what are called 'one-hot vectors' to represent the carrier and the destination of each flight. A one-hot vector is a way of representing a categorical feature where every observation has a vector in which all elements are zero except for at most one element, which has a value of one (1).\r\n",
        "\r\n",
        "Each element in the vector corresponds to a level of the feature, so it's possible to tell what the right level is by seeing which element of the vector is equal to one (1).\r\n",
        "\r\n",
        "The first step to encoding your categorical feature is to create a StringIndexer. Members of this class are Estimators that take a DataFrame with a column of strings and map each unique string to a number. Then, the Estimator returns a Transformer that takes a DataFrame, attaches the mapping to it as metadata, and returns a new DataFrame with a numeric column corresponding to the string column.\r\n",
        "\r\n",
        "The second step is to encode this numeric column as a one-hot vector using a OneHotEncoder. This works exactly the same way as the StringIndexer by creating an Estimator and then a Transformer. The end result is a column that encodes your categorical feature as a vector that's suitable for machine learning routines!\r\n",
        "\r\n",
        "This may seem complicated, but don't worry! All you have to remember is that you need to create a StringIndexer and a OneHotEncoder, and the Pipeline will take care of the rest.\r\n",
        "\r\n",
        "Why do you have to encode a categorical feature as a one-hot vector?\r\n",
        "\r\n",
        "Possible Answers\r\n",
        "\r\n",
        "1. It makes fitting the model faster.\r\n",
        " - Incorrect - Re-encoding strings doesn't affect the speed.\r\n",
        "\r\n",
        "2. Spark can only model numeric features.\r\n",
        " - Awesome! You remembered that Spark can only model numeric features.\r\n",
        "\r\n",
        "3. For compatibility with scikit-learn.\r\n",
        " - One-hot encoders aren't specific to scikit-learn."
      ]
    },
    {
      "cell_type": "markdown",
      "metadata": {
        "id": "ZFAvm5vNwyb4"
      },
      "source": [
        "# Carrier\r\n",
        "\r\n",
        "In this exercise you'll create a StringIndexer and a OneHotEncoder to code the carrier column. To do this, you'll call the class constructors with the arguments inputCol and outputCol.\r\n",
        "\r\n",
        "The inputCol is the name of the column you want to index or encode, and the outputCol is the name of the new column that the Transformer should create.\r\n",
        "\r\n",
        "Instructions\r\n",
        "\r\n",
        "1. Create a StringIndexer called carr_indexer by calling StringIndexer() with inputCol=\"carrier\" and outputCol=\"carrier_index\".\r\n",
        "\r\n",
        "2. Create a OneHotEncoder called carr_encoder by calling OneHotEncoder() with inputCol=\"carrier_index\" and outputCol=\"carrier_fact\".\r\n"
      ]
    },
    {
      "cell_type": "code",
      "metadata": {
        "id": "zrEUgE1_xpfZ"
      },
      "source": [
        "# Create a StringIndexer\r\n",
        "carr_indexer = StringIndexer(inputCol=\"carrier\", outputCol=\"carrier_index\")\r\n",
        "\r\n",
        "# Create a OneHotEncoder\r\n",
        "carr_encoder = OneHotEncoder(inputCol=\"carrier_index\", outputCol=\"carrier_fact\")"
      ],
      "execution_count": null,
      "outputs": []
    },
    {
      "cell_type": "markdown",
      "metadata": {
        "id": "xhCRMTytxqMx"
      },
      "source": [
        "Conclusion\r\n",
        "\r\n",
        "Fantastic work! You're ready to include this column in your model now!"
      ]
    },
    {
      "cell_type": "markdown",
      "metadata": {
        "id": "yUCbqW-wxuhP"
      },
      "source": [
        "# Destination\r\n",
        "\r\n",
        "Now you'll encode the dest column just like you did in the previous exercise.\r\n",
        "\r\n",
        "Instructions\r\n",
        "\r\n",
        "1. Create a StringIndexer called dest_indexer by calling StringIndexer() with inputCol=\"dest\" and outputCol=\"dest_index\".\r\n",
        "    \r\n",
        "2. Create a OneHotEncoder called dest_encoder by calling OneHotEncoder() with inputCol=\"dest_index\" and outputCol=\"dest_fact\".\r\n"
      ]
    },
    {
      "cell_type": "code",
      "metadata": {
        "id": "pCaZHG8uy64j"
      },
      "source": [
        "# Create a StringIndexer\r\n",
        "dest_indexer = StringIndexer(inputCol=\"dest\", outputCol=\"dest_index\")\r\n",
        "\r\n",
        "# Create a OneHotEncoder\r\n",
        "dest_encoder = OneHotEncoder(inputCol=\"dest_index\", outputCol=\"dest_fact\")"
      ],
      "execution_count": null,
      "outputs": []
    },
    {
      "cell_type": "markdown",
      "metadata": {
        "id": "q_7oyvY_y7lT"
      },
      "source": [
        "Conclusion\r\n",
        "\r\n",
        "Perfect! You're all done messing with factors."
      ]
    },
    {
      "cell_type": "markdown",
      "metadata": {
        "id": "x0MJ1Aaiy_Uf"
      },
      "source": [
        "# Assemble a vector\r\n",
        "\r\n",
        "The last step in the Pipeline is to combine all of the columns containing our features into a single column. This has to be done before modeling can take place because every Spark modeling routine expects the data to be in this form. You can do this by storing each of the values from a column as an entry in a vector. Then, from the model's point of view, every observation is a vector that contains all of the information about it and a label that tells the modeler what value that observation corresponds to.\r\n",
        "\r\n",
        "Because of this, the pyspark.ml.feature submodule contains a class called VectorAssembler. This Transformer takes all of the columns you specify and combines them into a new vector column.\r\n",
        "\r\n",
        "Instructions\r\n",
        "\r\n",
        "1. Create a VectorAssembler by calling VectorAssembler() with the inputCols names as a list and the outputCol name \"features\".\r\n",
        "\r\n",
        "2. The list of columns should be: \r\n",
        "\r\n",
        " - `[\"month\", \"air_time\", \"carrier_fact\", \"dest_fact\", \"plane_age\"]`"
      ]
    },
    {
      "cell_type": "code",
      "metadata": {
        "id": "WgWDnQjUzd17"
      },
      "source": [
        "# Make a VectorAssembler\r\n",
        "vec_assembler = VectorAssembler(inputCols=[\"month\", \"air_time\", \"carrier_fact\", \"dest_fact\", \"plane_age\"], outputCol=\"features\")"
      ],
      "execution_count": null,
      "outputs": []
    },
    {
      "cell_type": "markdown",
      "metadata": {
        "id": "w4xcQ4qezelI"
      },
      "source": [
        "Conclusion\r\n",
        "\r\n",
        "Good job! Your data is all assembled now."
      ]
    },
    {
      "cell_type": "markdown",
      "metadata": {
        "id": "_DA9q3A-zvmq"
      },
      "source": [
        "# Create the pipeline\r\n",
        "\r\n",
        "You're finally ready to create a Pipeline!\r\n",
        "\r\n",
        "Pipeline is a class in the pyspark.ml module that combines all the Estimators and Transformers that you've already created. This lets you reuse the same modeling process over and over again by wrapping it up in one simple object. Neat, right?\r\n",
        "\r\n",
        "Instructions\r\n",
        "\r\n",
        "1. Import Pipeline from pyspark.ml.\r\n",
        "\r\n",
        "2. Call the Pipeline() constructor with the keyword argument stages to create a Pipeline called flights_pipe.\r\n",
        " \r\n",
        " - stages should be a list holding all the stages you want your data to go through in the pipeline. Here this is just: \r\n",
        "    - `[dest_indexer, dest_encoder, carr_indexer, carr_encoder, vec_assembler]`\r\n"
      ]
    },
    {
      "cell_type": "code",
      "metadata": {
        "id": "aqg_FnIr0bs6"
      },
      "source": [
        "# Import Pipeline\r\n",
        "from pyspark.ml import Pipeline\r\n",
        "\r\n",
        "# Make the pipeline\r\n",
        "flights_pipe = Pipeline(stages=[dest_indexer, dest_encoder, carr_indexer, carr_encoder, vec_assembler])"
      ],
      "execution_count": null,
      "outputs": []
    },
    {
      "cell_type": "markdown",
      "metadata": {
        "id": "QDp0a3Ri0dKE"
      },
      "source": [
        "Conclusion\r\n",
        "\r\n",
        "Fantastic! You've made a fully reproducible machine learning pipeline!"
      ]
    },
    {
      "cell_type": "markdown",
      "metadata": {
        "id": "7uZqKiff0trr"
      },
      "source": [
        "# Test vs Train\r\n",
        "\r\n",
        "After you've cleaned your data and gotten it ready for modeling, one of the most important steps is to split the data into a test set and a train set. After that, don't touch your test data until you think you have a good model! As you're building models and forming hypotheses, you can test them on your training data to get an idea of their performance.\r\n",
        "\r\n",
        "Once you've got your favorite model, you can see how well it predicts the new data in your test set. This never-before-seen data will give you a much more realistic idea of your model's performance in the real world when you're trying to predict or classify new data.\r\n",
        "\r\n",
        "In Spark it's important to make sure you split the data after all the transformations. This is because operations like StringIndexer don't always produce the same index even when given the same list of strings.\r\n",
        "\r\n",
        "Why is it important to use a test set in model evaluation?\r\n",
        "\r\n",
        "Possible Answers\r\n",
        "\r\n",
        "1. Evaluating your model improves its accuracy.\r\n",
        " - Incorrect - Your model only sees the test set after all the fitting is complete.\r\n",
        "\r\n",
        "2. By evaluating your model with a test set you can get a good idea of performance on new data.\r\n",
        " - Exactly! A test set approximates the 'real world error' of your model.\r\n",
        " \r\n",
        "3. Using a test set lets you check your code for errors.\r\n",
        " - Incorrect - If your code had errors, you wouldn't be able to fit a model in the first place!"
      ]
    },
    {
      "cell_type": "markdown",
      "metadata": {
        "id": "6UXV686c1NVo"
      },
      "source": [
        "# Transform the data\r\n",
        "\r\n",
        "Hooray, now you're finally ready to pass your data through the Pipeline you created!\r\n",
        "\r\n",
        "Instructions\r\n",
        "\r\n",
        "1. Create the DataFrame piped_data by calling the Pipeline methods .fit() and .transform() in a chain. Both of these methods take model_data as their only argument.\r\n"
      ]
    },
    {
      "cell_type": "code",
      "metadata": {
        "id": "4GD5_jZVTvkK"
      },
      "source": [
        "# Fit and transform the data\r\n",
        "piped_data = flights_pipe.fit(model_data).transform(model_data)"
      ],
      "execution_count": null,
      "outputs": []
    },
    {
      "cell_type": "markdown",
      "metadata": {
        "id": "ONzDkrwZTwQo"
      },
      "source": [
        "Conclusion\r\n",
        "\r\n",
        "Great work! Your pipeline chewed right through that data!"
      ]
    },
    {
      "cell_type": "markdown",
      "metadata": {
        "id": "8iJg4VhbT1i2"
      },
      "source": [
        "# Split the data\r\n",
        "\r\n",
        "Now that you've done all your manipulations, the last step before modeling is to split the data!\r\n",
        "\r\n",
        "Instructions\r\n",
        "\r\n",
        "1. Use the DataFrame method .randomSplit() to split piped_data into two pieces, training with 60% of the data, and test with 40% of the data by passing the list [.6, .4] to the .randomSplit() method.\r\n"
      ]
    },
    {
      "cell_type": "code",
      "metadata": {
        "id": "h7RQ8dHVUAyx"
      },
      "source": [
        "# Split the data into training and test sets\r\n",
        "training, test = piped_data.randomSplit([.6, .4])"
      ],
      "execution_count": null,
      "outputs": []
    },
    {
      "cell_type": "markdown",
      "metadata": {
        "id": "F4iBTDE2UBQm"
      },
      "source": [
        "Conclusion\r\n",
        "\r\n",
        "Awesome! Now you're ready to start fitting a model!"
      ]
    }
  ]
}