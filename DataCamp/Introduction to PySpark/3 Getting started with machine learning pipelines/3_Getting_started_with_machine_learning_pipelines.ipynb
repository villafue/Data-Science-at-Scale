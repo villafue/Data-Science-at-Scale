{
  "nbformat": 4,
  "nbformat_minor": 0,
  "metadata": {
    "colab": {
      "name": "3 Getting started with machine learning pipelines.ipynb",
      "provenance": [],
      "authorship_tag": "ABX9TyM4QGm5lb9EOvAOWb/lONWz",
      "include_colab_link": true
    },
    "kernelspec": {
      "name": "python3",
      "display_name": "Python 3"
    }
  },
  "cells": [
    {
      "cell_type": "markdown",
      "metadata": {
        "id": "view-in-github",
        "colab_type": "text"
      },
      "source": [
        "<a href=\"https://colab.research.google.com/github/villafue/Data-Science-at-Scale/blob/main/DataCamp/Introduction%20to%20PySpark/3%20Getting%20started%20with%20machine%20learning%20pipelines/3_Getting_started_with_machine_learning_pipelines.ipynb\" target=\"_parent\"><img src=\"https://colab.research.google.com/assets/colab-badge.svg\" alt=\"Open In Colab\"/></a>"
      ]
    },
    {
      "cell_type": "markdown",
      "metadata": {
        "id": "_ndvjCnNp9vt"
      },
      "source": [
        "# Getting started with machine learning pipelines\r\n",
        "\r\n",
        "PySpark has built-in, cutting-edge machine learning routines, along with utilities to create full machine learning pipelines. You'll learn about them in this chapter."
      ]
    },
    {
      "cell_type": "code",
      "metadata": {
        "id": "_WvQrfYBfdYZ"
      },
      "source": [
        ""
      ],
      "execution_count": null,
      "outputs": []
    }
  ]
}