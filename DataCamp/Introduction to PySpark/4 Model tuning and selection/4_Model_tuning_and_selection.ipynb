{
  "nbformat": 4,
  "nbformat_minor": 0,
  "metadata": {
    "colab": {
      "name": "4 Model tuning and selection.ipynb",
      "provenance": [],
      "authorship_tag": "ABX9TyOWK5ifQ2TXmmJ293rQqrhW",
      "include_colab_link": true
    },
    "kernelspec": {
      "name": "python3",
      "display_name": "Python 3"
    }
  },
  "cells": [
    {
      "cell_type": "markdown",
      "metadata": {
        "id": "view-in-github",
        "colab_type": "text"
      },
      "source": [
        "<a href=\"https://colab.research.google.com/github/villafue/Data-Science-at-Scale/blob/main/DataCamp/Introduction%20to%20PySpark/4%20Model%20tuning%20and%20selection/4_Model_tuning_and_selection.ipynb\" target=\"_parent\"><img src=\"https://colab.research.google.com/assets/colab-badge.svg\" alt=\"Open In Colab\"/></a>"
      ]
    },
    {
      "cell_type": "markdown",
      "metadata": {
        "id": "0p0GDOlzIVas"
      },
      "source": [
        "# Model tuning and selection\r\n",
        "\r\n",
        "In this last chapter, you'll apply what you've learned to create a model that predicts which flights will be delayed."
      ]
    },
    {
      "cell_type": "markdown",
      "metadata": {
        "id": "W8T9BTmhIrgU"
      },
      "source": [
        "# What is logistic regression?\r\n",
        "\r\n",
        "The model you'll be fitting in this chapter is called a logistic regression. This model is very similar to a linear regression, but instead of predicting a numeric variable, it predicts the probability (between 0 and 1) of an event.\r\n",
        "\r\n",
        "To use this as a classification algorithm, all you have to do is assign a cutoff point to these probabilities. If the predicted probability is above the cutoff point, you classify that observation as a 'yes' (in this case, the flight being late), if it's below, you classify it as a 'no'!\r\n",
        "\r\n",
        "You'll tune this model by testing different values for several hyperparameters. A hyperparameter is just a value in the model that's not estimated from the data, but rather is supplied by the user to maximize performance. For this course it's not necessary to understand the mathematics behind all of these values - what's important is that you'll try out a few different choices and pick the best one.\r\n",
        "\r\n",
        "Why do you supply hyperparameters?\r\n",
        "\r\n",
        "Possible Answers\r\n",
        "\r\n",
        "1. They explain information about the data.\r\n",
        " - Incorrect - Remember, the hyperparameters aren't estimated from the data.\r\n",
        "\r\n",
        "2. They improve model performance.\r\n",
        " - Great job! You supply hyperparameters to optimize your model. \r\n",
        "\r\n",
        "3. They improve model fitting speed.\r\n",
        " - Incorrect - The more parameters your model has the more complicated it will be to fit."
      ]
    },
    {
      "cell_type": "markdown",
      "metadata": {
        "id": "9h-TPQVbJ7zj"
      },
      "source": [
        "# Create the modeler\r\n",
        "\r\n",
        "The Estimator you'll be using is a LogisticRegression from the pyspark.ml.classification submodule.\r\n",
        "\r\n",
        "Instructions\r\n",
        "\r\n",
        "1. Import the LogisticRegression class from pyspark.ml.classification.\r\n",
        "\r\n",
        "2. Create a LogisticRegression called lr by calling LogisticRegression() with no arguments.\r\n"
      ]
    },
    {
      "cell_type": "code",
      "metadata": {
        "id": "vaJ6zc5MIQxE"
      },
      "source": [
        "# Import LogisticRegression\r\n",
        "from pyspark.ml.classification import LogisticRegression\r\n",
        "\r\n",
        "# Create a LogisticRegression Estimator\r\n",
        "lr = LogisticRegression()"
      ],
      "execution_count": null,
      "outputs": []
    },
    {
      "cell_type": "markdown",
      "metadata": {
        "id": "-xh4HwrpoKRM"
      },
      "source": [
        "Conclusion\r\n",
        "\r\n",
        "Great work! That's the first step to any modeling in PySpark."
      ]
    },
    {
      "cell_type": "markdown",
      "metadata": {
        "id": "Nj3cEdIMooN8"
      },
      "source": [
        "# Cross validation\r\n",
        "\r\n",
        "In the next few exercises you'll be tuning your logistic regression model using a procedure called k-fold cross validation. This is a method of estimating the model's performance on unseen data (like your test DataFrame).\r\n",
        "\r\n",
        "It works by splitting the training data into a few different partitions. The exact number is up to you, but in this course you'll be using PySpark's default value of three. Once the data is split up, one of the partitions is set aside, and the model is fit to the others. Then the error is measured against the held out partition. This is repeated for each of the partitions, so that every block of data is held out and used as a test set exactly once. Then the error on each of the partitions is averaged. This is called the cross validation error of the model, and is a good estimate of the actual error on the held out data.\r\n",
        "\r\n",
        "You'll be using cross validation to choose the hyperparameters by creating a grid of the possible pairs of values for the two hyperparameters, elasticNetParam and regParam, and using the cross validation error to compare all the different models so you can choose the best one!\r\n",
        "\r\n",
        "What does cross validation allow you to estimate?\r\n",
        "\r\n",
        "Possible Answers\r\n",
        "\r\n",
        "1. The model's error on held out data.\r\n",
        " - Exactly! The cross validation error is an estimate of the model's error on the test set.\r\n",
        " \r\n",
        "2. The model's error on data used for fitting.\r\n",
        " - Incorrect - You don't need to estimate this as you can calculate the error directly by comparing your model's predictions to the observed values.\r\n",
        "\r\n",
        "3. The time it will take to fit the model.\r\n",
        " - Incorrect - Cross validation is part of the model fitting process, so it can't estimate how long it will take to run."
      ]
    },
    {
      "cell_type": "markdown",
      "metadata": {
        "id": "dXS2qO0NqJ0I"
      },
      "source": [
        "# Create the evaluator\r\n",
        "\r\n",
        "The first thing you need when doing cross validation for model selection is a way to compare different models. Luckily, the pyspark.ml.evaluation submodule has classes for evaluating different kinds of models. Your model is a binary classification model, so you'll be using the BinaryClassificationEvaluator from the pyspark.ml.evaluation module.\r\n",
        "\r\n",
        "This evaluator calculates the area under the ROC. This is a metric that combines the two kinds of errors a binary classifier can make (false positives and false negatives) into a simple number. You'll learn more about this towards the end of the chapter!\r\n",
        "\r\n",
        "Instructions\r\n",
        "\r\n",
        "1. Import the submodule pyspark.ml.evaluation as evals.\r\n",
        "\r\n",
        "2. Create evaluator by calling evals.BinaryClassificationEvaluator() with the argument metricName=\"areaUnderROC\".\r\n"
      ]
    },
    {
      "cell_type": "code",
      "metadata": {
        "id": "CEWdFMfwtJMo"
      },
      "source": [
        "# Import the evaluation submodule\r\n",
        "import pyspark.ml.evaluation as evals\r\n",
        "\r\n",
        "# Create a BinaryClassificationEvaluator\r\n",
        "evaluator = evals.BinaryClassificationEvaluator(metricName=\"areaUnderROC\")"
      ],
      "execution_count": null,
      "outputs": []
    },
    {
      "cell_type": "markdown",
      "metadata": {
        "id": "pKOkPKhbtJxg"
      },
      "source": [
        "Conclusion\r\n",
        "\r\n",
        "Perfect! Now you can compare models using the metric output by your evaluator!"
      ]
    },
    {
      "cell_type": "markdown",
      "metadata": {
        "id": "m6mkLTt1tT0-"
      },
      "source": [
        "# Make a grid\r\n",
        "\r\n",
        "Next, you need to create a grid of values to search over when looking for the optimal hyperparameters. The submodule pyspark.ml.tuning includes a class called ParamGridBuilder that does just that (maybe you're starting to notice a pattern here; PySpark has a submodule for just about everything!).\r\n",
        "\r\n",
        "You'll need to use the .addGrid() and .build() methods to create a grid that you can use for cross validation. The .addGrid() method takes a model parameter (an attribute of the model Estimator, lr, that you created a few exercises ago) and a list of values that you want to try. The .build() method takes no arguments, it just returns the grid that you'll use later.\r\n",
        "\r\n",
        "Instructions\r\n",
        "\r\n",
        "1. Import the submodule pyspark.ml.tuning under the alias tune.\r\n",
        "\r\n",
        "2. Call the class constructor ParamGridBuilder() with no arguments. Save this as grid.\r\n",
        "\r\n",
        "3. Call the .addGrid() method on grid with lr.regParam as the first argument and np.arange(0, .1, .01) as the second argument. This second call is a function from the numpy module (imported as np) that creates a list of numbers from 0 to .1, incrementing by .01. Overwrite grid with the result.\r\n",
        "\r\n",
        "4. Update grid again by calling the .addGrid() method a second time create a grid for lr.elasticNetParam that includes only the values [0, 1].\r\n",
        "\r\n",
        "5. Call the .build() method on grid and overwrite it with the output.\r\n"
      ]
    },
    {
      "cell_type": "code",
      "metadata": {
        "id": "rmoFlAXnu4LL"
      },
      "source": [
        "# Import the tuning submodule\r\n",
        "import pyspark.ml.tuning as tune\r\n",
        "\r\n",
        "# Create the parameter grid\r\n",
        "grid = tune.ParamGridBuilder()\r\n",
        "\r\n",
        "# Add the hyperparameter\r\n",
        "grid = grid.addGrid(lr.regParam, np.arange(0, .1, .01))\r\n",
        "grid = grid.addGrid(lr.elasticNetParam, [0,1])\r\n",
        "\r\n",
        "# Build the grid\r\n",
        "grid = grid.build()"
      ],
      "execution_count": null,
      "outputs": []
    },
    {
      "cell_type": "markdown",
      "metadata": {
        "id": "_sCuTZeVu5DF"
      },
      "source": [
        "Conclusion\r\n",
        "\r\n",
        "Awesome! That's the last ingredient in your cross validation recipe!"
      ]
    },
    {
      "cell_type": "markdown",
      "metadata": {
        "id": "DN2i7MFVu-3Y"
      },
      "source": [
        "# Make the validator\r\n",
        "\r\n",
        "The submodule pyspark.ml.tuning also has a class called CrossValidator for performing cross validation. This Estimator takes the modeler you want to fit, the grid of hyperparameters you created, and the evaluator you want to use to compare your models.\r\n",
        "\r\n",
        "The submodule pyspark.ml.tune has already been imported as tune. You'll create the CrossValidator by passing it the logistic regression Estimator lr, the parameter grid, and the evaluator you created in the previous exercises.\r\n",
        "\r\n",
        "Instructions\r\n",
        "\r\n",
        "1. Create a CrossValidator by calling tune.CrossValidator() with the arguments:\r\n",
        "\r\n",
        " - estimator=lr\r\n",
        "\r\n",
        " - estimatorParamMaps=grid\r\n",
        "\r\n",
        " - evaluator=evaluator\r\n",
        "\r\n",
        "2. Name this object cv.\r\n"
      ]
    },
    {
      "cell_type": "code",
      "metadata": {
        "id": "YZp9FHpovUG-"
      },
      "source": [
        "# Create the CrossValidator\r\n",
        "cv = tune.CrossValidator(estimator=lr,\r\n",
        "               estimatorParamMaps=grid,\r\n",
        "               evaluator=evaluator\r\n",
        "               )"
      ],
      "execution_count": null,
      "outputs": []
    },
    {
      "cell_type": "markdown",
      "metadata": {
        "id": "DVMSLEkWvUyr"
      },
      "source": [
        "Conclusion\r\n",
        "\r\n",
        "Great job! You're almost a machine learning pro!"
      ]
    },
    {
      "cell_type": "markdown",
      "metadata": {
        "id": "Zph5Q029vYtj"
      },
      "source": [
        "# Fit the model(s)\r\n",
        "\r\n",
        "You're finally ready to fit the models and select the best one!\r\n",
        "\r\n",
        "Unfortunately, cross validation is a very computationally intensive procedure. Fitting all the models would take too long on DataCamp.\r\n",
        "\r\n",
        "To do this locally you would use the code:\r\n",
        "```\r\n",
        "# Fit cross validation models\r\n",
        "models = cv.fit(training)\r\n",
        "\r\n",
        "# Extract the best model\r\n",
        "best_lr = models.bestModel\r\n",
        "```\r\n",
        "Remember, the training data is called training and you're using lr to fit a logistic regression model. Cross validation selected the parameter values regParam=0 and elasticNetParam=0 as being the best. These are the default values, so you don't need to do anything else with lr before fitting the model.\r\n",
        "\r\n",
        "Instructions\r\n",
        "\r\n",
        "1. Create best_lr by calling lr.fit() on the training data.\r\n",
        "\r\n",
        "2. Print best_lr to verify that it's an object of the LogisticRegressionModel class.\r\n"
      ]
    },
    {
      "cell_type": "code",
      "metadata": {
        "id": "hUh_lABVv1gh"
      },
      "source": [
        "# Call lr.fit()\r\n",
        "best_lr = lr.fit(training)\r\n",
        "\r\n",
        "# Print best_lr\r\n",
        "print(best_lr)\r\n",
        "\r\n",
        "'''\r\n",
        "<script.py> output:\r\n",
        "    LogisticRegression_484aa8f631a91ebe9d3e\r\n",
        "'''"
      ],
      "execution_count": null,
      "outputs": []
    },
    {
      "cell_type": "markdown",
      "metadata": {
        "id": "c3qRMRppv7v0"
      },
      "source": [
        "Conclusion\r\n",
        "\r\n",
        "Wow! You fit your first Spark model!"
      ]
    },
    {
      "cell_type": "markdown",
      "metadata": {
        "id": "vHVh3WHcwAzz"
      },
      "source": [
        "Evaluating binary classifiers\r\n",
        "\r\n",
        "For this course we'll be using a common metric for binary classification algorithms call the AUC, or area under the curve. In this case, the curve is the ROC, or receiver operating curve. The details of what these things actually measure isn't important for this course. All you need to know is that for our purposes, the closer the AUC is to one (1), the better the model is!\r\n",
        "\r\n",
        "If you've created a perfect binary classification model, what would the AUC be?\r\n",
        "\r\n",
        "Possible Answers\r\n",
        "\r\n",
        "1. -1\r\n",
        " - Incorrect - Remember the AUC is always between zero and one.\r\n",
        "\r\n",
        "2. 1\r\n",
        " - Great job! An AUC of one represents a model that always perfectly classifies observations.\r\n",
        " \r\n",
        "3. 0\r\n",
        " - Incorrect - The AUC gets better when it's bigger.\r\n",
        "\r\n",
        "4. .5\r\n",
        " - Incorrect - The AUC gets better when it's bigger."
      ]
    },
    {
      "cell_type": "markdown",
      "metadata": {
        "id": "cMbyO8bozRcE"
      },
      "source": [
        "# Evaluate the model\r\n",
        "\r\n",
        "Remember the test data that you set aside waaaaaay back in chapter 3? It's finally time to test your model on it! You can use the same evaluator you made to fit the model.\r\n",
        "\r\n",
        "Instructions\r\n",
        "\r\n",
        "1. Use your model to generate predictions by applying best_lr.transform() to the test data. Save this as test_results.\r\n",
        "\r\n",
        "2. Call evaluator.evaluate() on test_results to compute the AUC. Print the output.\r\n"
      ]
    },
    {
      "cell_type": "code",
      "metadata": {
        "id": "gIM-Ji8wzdWk"
      },
      "source": [
        "# Use the model to predict the test set\r\n",
        "test_results = best_lr.transform(test)\r\n",
        "\r\n",
        "# Evaluate the predictions\r\n",
        "print(evaluator.evaluate(test_results))\r\n",
        "\r\n",
        "'''\r\n",
        "<script.py> output:\r\n",
        "    0.7125950520013029\r\n",
        "'''"
      ],
      "execution_count": null,
      "outputs": []
    },
    {
      "cell_type": "markdown",
      "metadata": {
        "id": "N9sSi_ZNzhQz"
      },
      "source": [
        "Conclusion\r\n",
        "\r\n",
        "Congratulations! What do you think of the AUC? Your model isn't half bad! You went from knowing nothing about Spark to doing advanced machine learning. Great job on making it to the end of the course! The next steps are learning how to create large scale Spark clusters and manage and submit jobs so that you can use models in the real world. Check out some of the other DataCamp courses that use Spark! And remember, Spark is still being actively developed, so there's new features coming all the time!"
      ]
    }
  ]
}