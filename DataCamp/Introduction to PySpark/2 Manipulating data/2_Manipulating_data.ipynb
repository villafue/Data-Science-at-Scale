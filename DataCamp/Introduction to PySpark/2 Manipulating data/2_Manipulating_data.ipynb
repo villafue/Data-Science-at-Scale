{
  "nbformat": 4,
  "nbformat_minor": 0,
  "metadata": {
    "colab": {
      "name": "2 Manipulating data.ipynb",
      "provenance": [],
      "authorship_tag": "ABX9TyO+AwkxsEWjfu5KZibwaa0R",
      "include_colab_link": true
    },
    "kernelspec": {
      "name": "python3",
      "display_name": "Python 3"
    }
  },
  "cells": [
    {
      "cell_type": "markdown",
      "metadata": {
        "id": "view-in-github",
        "colab_type": "text"
      },
      "source": [
        "<a href=\"https://colab.research.google.com/github/villafue/Data-Science-at-Scale/blob/main/DataCamp/Introduction%20to%20PySpark/2%20Manipulating%20data/2_Manipulating_data.ipynb\" target=\"_parent\"><img src=\"https://colab.research.google.com/assets/colab-badge.svg\" alt=\"Open In Colab\"/></a>"
      ]
    },
    {
      "cell_type": "markdown",
      "metadata": {
        "id": "d_-1_De3pWGN"
      },
      "source": [
        "# Manipulating data\r\n",
        "\r\n",
        "In this chapter, you'll learn about the pyspark.sql module, which provides optimized data queries to your Spark session."
      ]
    },
    {
      "cell_type": "code",
      "metadata": {
        "id": "TWoatczkpM1Z"
      },
      "source": [
        ""
      ],
      "execution_count": null,
      "outputs": []
    }
  ]
}